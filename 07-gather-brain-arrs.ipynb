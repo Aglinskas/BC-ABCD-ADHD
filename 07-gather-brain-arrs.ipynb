{
 "cells": [
  {
   "cell_type": "code",
   "execution_count": 1,
   "id": "be2b6ec5",
   "metadata": {},
   "outputs": [
    {
     "data": {
      "text/plain": [
       "'/mmfs1/data/aglinska/BC-ABCD-ADHD'"
      ]
     },
     "execution_count": 1,
     "metadata": {},
     "output_type": "execute_result"
    }
   ],
   "source": [
    "pwd"
   ]
  },
  {
   "cell_type": "code",
   "execution_count": 2,
   "id": "56ecd673",
   "metadata": {},
   "outputs": [
    {
     "name": "stderr",
     "output_type": "stream",
     "text": [
      "/data/aglinska/anaconda3/lib/python3.8/site-packages/pandas/core/computation/expressions.py:20: UserWarning: Pandas requires version '2.7.3' or newer of 'numexpr' (version '2.7.1' currently installed).\n",
      "  from pandas.core.computation.check import NUMEXPR_INSTALLED\n",
      "/data/aglinska/anaconda3/lib/python3.8/site-packages/statsmodels/tsa/base/tsa_model.py:7: FutureWarning: pandas.Int64Index is deprecated and will be removed from pandas in a future version. Use pandas.Index with the appropriate dtype instead.\n",
      "  from pandas import (to_datetime, Int64Index, DatetimeIndex, Period,\n",
      "/data/aglinska/anaconda3/lib/python3.8/site-packages/statsmodels/tsa/base/tsa_model.py:7: FutureWarning: pandas.Float64Index is deprecated and will be removed from pandas in a future version. Use pandas.Index with the appropriate dtype instead.\n",
      "  from pandas import (to_datetime, Int64Index, DatetimeIndex, Period,\n"
     ]
    }
   ],
   "source": [
    "import os\n",
    "import numpy as np\n",
    "import pandas as pd\n",
    "from matplotlib import pyplot as plt\n",
    "import seaborn as sns\n",
    "from tqdm import tqdm\n",
    "import ants"
   ]
  },
  {
   "cell_type": "code",
   "execution_count": 3,
   "id": "1e314e72",
   "metadata": {},
   "outputs": [
    {
     "name": "stdout",
     "output_type": "stream",
     "text": [
      "5038\n",
      "['sub-NDARINV5MJHVEB8' 'sub-NDARINV36E4JVZ2' 'sub-NDARINVKDZKAC4L']\n"
     ]
    }
   ],
   "source": [
    "subs_td = pd.read_csv('./Derivatives/ABCD_NON_ADHD_subjectIDs_N_4021.csv')\n",
    "subs_adhd = pd.read_csv('./Derivatives/ABCD_ADHD_subjectIDs_N_1017.csv')\n",
    "subs=pd.concat([subs_td,subs_adhd])\n",
    "\n",
    "subs = subs['subjectkey'].values\n",
    "subs_orig = subs.copy()\n",
    "\n",
    "subs = [f'sub-{val}'.replace('_','') for val in subs]\n",
    "subs = np.array(subs)\n",
    "print(len(subs))\n",
    "print(subs[0:3])"
   ]
  },
  {
   "cell_type": "code",
   "execution_count": 4,
   "id": "a58d5901",
   "metadata": {},
   "outputs": [],
   "source": [
    "# # _brain_arr_orig.npz\n",
    "# #_brain_arr_aligned.npz\n",
    "#arr_fn = './Data/ABCD-brains-T0/{sub}_brain_arr_aligned.npz'\n",
    "arr_fn = './Data/ABCD-brains-T0/{sub}_brain_tiny_aligned.nii.gz'\n",
    "#arr_fn = './Data/ABCD-brains-T0/{sub}_brain_tiny_orig.nii.gz'"
   ]
  },
  {
   "cell_type": "code",
   "execution_count": 5,
   "id": "e54540c1",
   "metadata": {},
   "outputs": [],
   "source": [
    "check_exists = np.array([os.path.exists(arr_fn.format(sub=sub)) for sub in subs])"
   ]
  },
  {
   "cell_type": "code",
   "execution_count": 6,
   "id": "06c31757",
   "metadata": {},
   "outputs": [
    {
     "data": {
      "text/plain": [
       "205"
      ]
     },
     "execution_count": 6,
     "metadata": {},
     "output_type": "execute_result"
    }
   ],
   "source": [
    "len(subs[~check_exists])"
   ]
  },
  {
   "cell_type": "code",
   "execution_count": 7,
   "id": "54ef4cfe",
   "metadata": {},
   "outputs": [
    {
     "data": {
      "text/plain": [
       "4833"
      ]
     },
     "execution_count": 7,
     "metadata": {},
     "output_type": "execute_result"
    }
   ],
   "source": [
    "subs_use = subs[check_exists]\n",
    "len(subs_use)"
   ]
  },
  {
   "cell_type": "code",
   "execution_count": 8,
   "id": "3a07e544",
   "metadata": {},
   "outputs": [],
   "source": [
    "# arr = np.array([np.load(arr_fn.format(sub=sub))['arr'] for sub in tqdm(subs_use)])\n",
    "# print(arr.shape)"
   ]
  },
  {
   "cell_type": "code",
   "execution_count": 9,
   "id": "7da5c81a",
   "metadata": {},
   "outputs": [],
   "source": [
    "n = len(subs_use)"
   ]
  },
  {
   "cell_type": "code",
   "execution_count": 10,
   "id": "dd7523b5",
   "metadata": {},
   "outputs": [
    {
     "data": {
      "text/plain": [
       "(4833, 64, 64, 64)"
      ]
     },
     "execution_count": 10,
     "metadata": {},
     "output_type": "execute_result"
    }
   ],
   "source": [
    "arr = np.zeros((n,64,64,64))\n",
    "arr.shape"
   ]
  },
  {
   "cell_type": "code",
   "execution_count": 11,
   "id": "70d81c5d",
   "metadata": {},
   "outputs": [
    {
     "name": "stderr",
     "output_type": "stream",
     "text": [
      "100%|███████████████████████████████████████████████████████████████████████████████| 4833/4833 [00:54<00:00, 88.47it/s]\n"
     ]
    }
   ],
   "source": [
    "bad_subs = []\n",
    "good_subs = []\n",
    "for i in tqdm(range(n)):\n",
    "    sub = subs_use[i]\n",
    "    try:\n",
    "        #subarr = np.load(arr_fn.format(sub=sub))['arr']\n",
    "        subarr = ants.image_read(arr_fn.format(sub=sub)).numpy()\n",
    "        good_subs.append(sub)\n",
    "    except:\n",
    "        bad_subs.append(sub)\n",
    "        subarr = np.zeros((64,64,64))*np.nan\n",
    "    arr[i,:,:,:] = subarr"
   ]
  },
  {
   "cell_type": "code",
   "execution_count": 12,
   "id": "ec069d89",
   "metadata": {},
   "outputs": [],
   "source": [
    "assert np.isnan(arr).sum()==0\n",
    "assert arr.max()<=1.0"
   ]
  },
  {
   "cell_type": "code",
   "execution_count": 13,
   "id": "97f02c9a",
   "metadata": {},
   "outputs": [],
   "source": [
    "im = ants.image_read(arr_fn.format(sub=subs_use[0]))"
   ]
  },
  {
   "cell_type": "code",
   "execution_count": 14,
   "id": "4077f1a4",
   "metadata": {},
   "outputs": [
    {
     "data": {
      "image/png": "[encoded data removed]",
      "text/plain": [
       "<Figure size 900x900 with 3 Axes>"
      ]
     },
     "metadata": {},
     "output_type": "display_data"
    }
   ],
   "source": [
    "marr = arr.mean(axis=0)\n",
    "im.new_image_like(marr).plot_ortho(flat=True,xyz_lines=False,orient_labels=False,title='mean')"
   ]
  },
  {
   "cell_type": "code",
   "execution_count": 15,
   "id": "69bde79f",
   "metadata": {},
   "outputs": [
    {
     "data": {
      "image/png": "[encoded data removed]",
      "text/plain": [
       "<Figure size 900x900 with 3 Axes>"
      ]
     },
     "metadata": {},
     "output_type": "display_data"
    }
   ],
   "source": [
    "sdarr = arr.std(axis=0)\n",
    "im.new_image_like(sdarr).plot_ortho(flat=True,xyz_lines=False,orient_labels=False,title='std')"
   ]
  },
  {
   "cell_type": "code",
   "execution_count": 16,
   "id": "4595a7f9",
   "metadata": {},
   "outputs": [
    {
     "name": "stderr",
     "output_type": "stream",
     "text": [
      "100%|██████████████████████████████████████████████████████████████████████████████| 4833/4833 [00:15<00:00, 302.50it/s]\n"
     ]
    }
   ],
   "source": [
    "corr2mean = np.array([np.corrcoef(marr.flatten(),arr[i,:,:,:].flatten())[0,1] for i in tqdm(range(arr.shape[0]))])"
   ]
  },
  {
   "cell_type": "code",
   "execution_count": 17,
   "id": "296dc698",
   "metadata": {},
   "outputs": [
    {
     "data": {
      "text/plain": [
       "Text(0.5, 1.0, 'M=0.912,SD=0.016. Range=0.792-0.943')"
      ]
     },
     "execution_count": 17,
     "metadata": {},
     "output_type": "execute_result"
    },
    {
     "data": {
      "image/png": "[encoded data removed]",
      "text/plain": [
       "<Figure size 1000x500 with 1 Axes>"
      ]
     },
     "metadata": {},
     "output_type": "display_data"
    }
   ],
   "source": [
    "plt.figure(figsize=(10,5))\n",
    "sns.histplot(corr2mean)\n",
    "plt.title(f'M={corr2mean.mean():.3f},SD={corr2mean.std():.3f}. Range={corr2mean.min():.3f}-{corr2mean.max():.3f}')"
   ]
  },
  {
   "cell_type": "code",
   "execution_count": 18,
   "id": "823b7bae",
   "metadata": {},
   "outputs": [
    {
     "data": {
      "text/plain": [
       "array(['sub-NDARINV5MJHVEB8', 'sub-NDARINV36E4JVZ2',\n",
       "       'sub-NDARINVCR43W7MR', 'sub-NDARINVGK2BKPLT',\n",
       "       'sub-NDARINVNGJJTJJD'], dtype='<U19')"
      ]
     },
     "execution_count": 18,
     "metadata": {},
     "output_type": "execute_result"
    }
   ],
   "source": [
    "good_subs = np.array(good_subs)\n",
    "good_subs[0:5]"
   ]
  },
  {
   "cell_type": "code",
   "execution_count": 19,
   "id": "6a145b4c",
   "metadata": {},
   "outputs": [],
   "source": [
    "subnames_adhd = [f'sub-{val}'.replace('_','') for val in subs_adhd['subjectkey'].values]\n",
    "subnames_td = [f'sub-{val}'.replace('_','') for val in subs_td['subjectkey'].values]\n",
    "\n",
    "subnames_adhd = np.array(subnames_adhd)\n",
    "subnames_td = np.array(subnames_td)"
   ]
  },
  {
   "cell_type": "code",
   "execution_count": 20,
   "id": "28cbca25",
   "metadata": {},
   "outputs": [
    {
     "name": "stdout",
     "output_type": "stream",
     "text": [
      "959\n",
      "3874\n"
     ]
    }
   ],
   "source": [
    "idxs_adhd = np.array([good_sub in subnames_adhd for good_sub in good_subs])\n",
    "idxs_td = np.array([good_sub in subnames_td for good_sub in good_subs])\n",
    "\n",
    "print(idxs_adhd.sum())\n",
    "print(idxs_td.sum())"
   ]
  },
  {
   "cell_type": "code",
   "execution_count": 21,
   "id": "da67c623",
   "metadata": {},
   "outputs": [],
   "source": [
    "ofn_adhd = f'./Data/brain_arr_64_ADHD_{idxs_adhd.sum()}.npz'\n",
    "# np.savez_compressed(ofn_adhd,arr=arr[idxs_adhd,:,:,:],subs=good_subs[idxs_adhd])"
   ]
  },
  {
   "cell_type": "code",
   "execution_count": 22,
   "id": "cdc49ee7",
   "metadata": {},
   "outputs": [],
   "source": [
    "ofn_td = f'./Data/brain_arr_64_TD_{idxs_td.sum()}.npz'\n",
    "# np.savez_compressed(ofn_td,arr=arr[idxs_td,:,:,:],subs=good_subs[idxs_td])"
   ]
  },
  {
   "cell_type": "code",
   "execution_count": 23,
   "id": "945de341",
   "metadata": {},
   "outputs": [],
   "source": [
    "## Check\n",
    "# print(np.load(ofn_adhd)['arr'].shape)\n",
    "# print(np.load(ofn_adhd)['subs'].shape)\n",
    "\n",
    "# print(np.load(ofn_td)['arr'].shape)\n",
    "# print(np.load(ofn_td)['subs'].shape)"
   ]
  },
  {
   "cell_type": "code",
   "execution_count": null,
   "id": "b58d83b3",
   "metadata": {},
   "outputs": [],
   "source": []
  },
  {
   "cell_type": "code",
   "execution_count": null,
   "id": "f7c3002b",
   "metadata": {},
   "outputs": [],
   "source": []
  },
  {
   "cell_type": "code",
   "execution_count": null,
   "id": "ed913749",
   "metadata": {},
   "outputs": [],
   "source": []
  }
 ],
 "metadata": {
  "kernelspec": {
   "display_name": "Python 3 (ipykernel)",
   "language": "python",
   "name": "python3"
  },
  "language_info": {
   "codemirror_mode": {
    "name": "ipython",
    "version": 3
   },
   "file_extension": ".py",
   "mimetype": "text/x-python",
   "name": "python",
   "nbconvert_exporter": "python",
   "pygments_lexer": "ipython3",
   "version": "3.8.5"
  }
 },
 "nbformat": 4,
 "nbformat_minor": 5
}
