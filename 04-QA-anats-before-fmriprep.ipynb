{
 "cells": [
  {
   "cell_type": "code",
   "execution_count": 1,
   "id": "eec00684",
   "metadata": {},
   "outputs": [
    {
     "name": "stdout",
     "output_type": "stream",
     "text": [
      "Interactive namespace is empty.\n"
     ]
    }
   ],
   "source": [
    "whos"
   ]
  },
  {
   "cell_type": "code",
   "execution_count": 2,
   "id": "e30fe131",
   "metadata": {},
   "outputs": [
    {
     "data": {
      "text/plain": [
       "'/mmfs1/data/aglinska/BC-ABCD-ADHD'"
      ]
     },
     "execution_count": 2,
     "metadata": {},
     "output_type": "execute_result"
    }
   ],
   "source": [
    "pwd"
   ]
  },
  {
   "cell_type": "code",
   "execution_count": 3,
   "id": "598804ba",
   "metadata": {},
   "outputs": [
    {
     "name": "stderr",
     "output_type": "stream",
     "text": [
      "/data/aglinska/anaconda3/lib/python3.8/site-packages/pandas/core/computation/expressions.py:20: UserWarning: Pandas requires version '2.7.3' or newer of 'numexpr' (version '2.7.1' currently installed).\n",
      "  from pandas.core.computation.check import NUMEXPR_INSTALLED\n",
      "/data/aglinska/anaconda3/lib/python3.8/site-packages/statsmodels/tsa/base/tsa_model.py:7: FutureWarning: pandas.Int64Index is deprecated and will be removed from pandas in a future version. Use pandas.Index with the appropriate dtype instead.\n",
      "  from pandas import (to_datetime, Int64Index, DatetimeIndex, Period,\n",
      "/data/aglinska/anaconda3/lib/python3.8/site-packages/statsmodels/tsa/base/tsa_model.py:7: FutureWarning: pandas.Float64Index is deprecated and will be removed from pandas in a future version. Use pandas.Index with the appropriate dtype instead.\n",
      "  from pandas import (to_datetime, Int64Index, DatetimeIndex, Period,\n"
     ]
    }
   ],
   "source": [
    "import ants\n",
    "import pandas as pd\n",
    "import os\n",
    "from tqdm import tqdm\n",
    "import numpy as np\n",
    "from matplotlib import pyplot as plt"
   ]
  },
  {
   "cell_type": "code",
   "execution_count": 4,
   "id": "1cad85f4",
   "metadata": {},
   "outputs": [],
   "source": [
    "def get_triu(inMat):\n",
    "    #inMat = rdm_bg\n",
    "\n",
    "    assert np.ndim(inMat)==2, 'not 2 dim, wtf'\n",
    "    assert inMat.shape[0]==inMat.shape[1], 'not a square'\n",
    "\n",
    "    n = inMat.shape[0]\n",
    "    triu_vec = inMat[np.triu_indices(n=n,k=1)]\n",
    "\n",
    "    #assert (squareform(triu_vec)==inMat).sum()/(n**2)>.9, 'unfaithful triu'\n",
    "    return triu_vec"
   ]
  },
  {
   "cell_type": "code",
   "execution_count": 5,
   "id": "fb49cd76",
   "metadata": {},
   "outputs": [
    {
     "name": "stdout",
     "output_type": "stream",
     "text": [
      "4836\n"
     ]
    },
    {
     "data": {
      "text/plain": [
       "['sub-NDARINVLBWER7ME',\n",
       " 'sub-NDARINVTT9JRJDR',\n",
       " 'sub-NDARINVZ8U8TUHJ',\n",
       " 'sub-NDARINV9AH5WYA7',\n",
       " 'sub-NDARINV42LK7GJJ']"
      ]
     },
     "execution_count": 5,
     "metadata": {},
     "output_type": "execute_result"
    }
   ],
   "source": [
    "indir = './Data/ABCD-data-use-T0'\n",
    "folders = [folder for folder in os.listdir(indir) if folder.startswith('sub-')]\n",
    "print(len(folders))\n",
    "folders[0:5]"
   ]
  },
  {
   "cell_type": "code",
   "execution_count": 6,
   "id": "e5d814b9",
   "metadata": {},
   "outputs": [],
   "source": [
    "fn_temp = './Data/ABCD-data-use-T0/{sub}/ses-baselineYear1Arm1/anat/{sub}_ses-baselineYear1Arm1_run-01_T1w.nii'"
   ]
  },
  {
   "cell_type": "code",
   "execution_count": 7,
   "id": "bb2ad33f",
   "metadata": {},
   "outputs": [],
   "source": [
    "#im_temp = ants.image_read(fn_temp.format(sub=folders[0]))"
   ]
  },
  {
   "cell_type": "code",
   "execution_count": 8,
   "id": "a7261543",
   "metadata": {},
   "outputs": [],
   "source": [
    "im_temp = ants.resample_image(ants.image_read(fn_temp.format(sub=folders[0])),resample_params=(64,64,64),use_voxels=True)"
   ]
  },
  {
   "cell_type": "code",
   "execution_count": 9,
   "id": "79d1fbde",
   "metadata": {},
   "outputs": [],
   "source": [
    "# 256,256,256 memory hog\n",
    "#anat_arr = [ants.image_read(fn_temp.format(sub=folders[i])).numpy().astype(np.float16) for i in tqdm(range(100))]"
   ]
  },
  {
   "cell_type": "code",
   "execution_count": 10,
   "id": "94188d16",
   "metadata": {},
   "outputs": [
    {
     "name": "stdout",
     "output_type": "stream",
     "text": [
      "4836\n"
     ]
    }
   ],
   "source": [
    "nsubs = len(folders)\n",
    "print(nsubs)"
   ]
  },
  {
   "cell_type": "code",
   "execution_count": 11,
   "id": "95e375ad",
   "metadata": {},
   "outputs": [
    {
     "name": "stderr",
     "output_type": "stream",
     "text": [
      "  1%|▌                                      | 65/4836 [02:15<2:46:20,  2.09s/it]ERROR:root:Internal Python error in the inspect module.\n",
      "Below is the traceback from this internal error.\n",
      "\n",
      "\n",
      "KeyboardInterrupt\n",
      "\n"
     ]
    }
   ],
   "source": [
    "# 64,64,64 and float16 resample\n",
    "anat_arr = [ants.resample_image(ants.image_read(fn_temp.format(sub=folders[i])),resample_params=(64,64,64),use_voxels=True).numpy().astype(np.float16) for i in tqdm(range(nsubs))]"
   ]
  },
  {
   "cell_type": "code",
   "execution_count": null,
   "id": "f9a8b0d4",
   "metadata": {},
   "outputs": [],
   "source": [
    "%%time\n",
    "anat_arr = np.array(anat_arr)"
   ]
  },
  {
   "cell_type": "code",
   "execution_count": null,
   "id": "65b56db3",
   "metadata": {},
   "outputs": [],
   "source": [
    "anat_arr.shape"
   ]
  },
  {
   "cell_type": "code",
   "execution_count": null,
   "id": "ed957ad9",
   "metadata": {},
   "outputs": [],
   "source": [
    "anat_arr.dtype"
   ]
  },
  {
   "cell_type": "code",
   "execution_count": null,
   "id": "70217102",
   "metadata": {},
   "outputs": [],
   "source": [
    "manat_arr = anat_arr.mean(axis=0)"
   ]
  },
  {
   "cell_type": "code",
   "execution_count": null,
   "id": "d1bc5166",
   "metadata": {},
   "outputs": [],
   "source": [
    "im_temp.new_image_like(manat_arr.astype(np.float32)).plot_ortho(flat=True,xyz_lines=False,orient_labels=True,figsize=1.0)"
   ]
  },
  {
   "cell_type": "code",
   "execution_count": null,
   "id": "97ac8de5",
   "metadata": {},
   "outputs": [],
   "source": [
    "flat_arr = anat_arr.reshape(nsubs,-1)\n",
    "print(flat_arr.shape)\n",
    "flat_arr = flat_arr[:,flat_arr.sum(axis=0)!=0]\n",
    "print(flat_arr.shape)\n",
    "#plt.imshow(anat_arr.reshape(100,-1))"
   ]
  },
  {
   "cell_type": "code",
   "execution_count": null,
   "id": "9e6f608f",
   "metadata": {},
   "outputs": [],
   "source": [
    "cmat_arr = np.corrcoef(flat_arr)\n",
    "cmat_arr.shape"
   ]
  },
  {
   "cell_type": "code",
   "execution_count": null,
   "id": "54c9c13f",
   "metadata": {},
   "outputs": [],
   "source": [
    "cbar.set_label?"
   ]
  },
  {
   "cell_type": "code",
   "execution_count": null,
   "id": "58dc03d1",
   "metadata": {},
   "outputs": [],
   "source": [
    "plt.imshow(cmat_arr,vmin=get_triu(cmat_arr).min(),vmax=get_triu(cmat_arr).max())\n",
    "cbar = plt.colorbar()\n",
    "plt.title('Similarity of subject anatomy')\n",
    "plt.xlabel('Subjects')\n",
    "plt.ylabel('Subjects')"
   ]
  },
  {
   "cell_type": "code",
   "execution_count": null,
   "id": "c87b7f22",
   "metadata": {},
   "outputs": [],
   "source": [
    "mflat_arr = flat_arr.mean(axis=0)"
   ]
  },
  {
   "cell_type": "code",
   "execution_count": null,
   "id": "e100416a",
   "metadata": {},
   "outputs": [],
   "source": [
    "corr2mean = [np.corrcoef(flat_arr[i,:],mflat_arr)[0,1] for i in tqdm(range(flat_arr.shape[0]))]"
   ]
  },
  {
   "cell_type": "code",
   "execution_count": null,
   "id": "139ed9cb",
   "metadata": {},
   "outputs": [],
   "source": [
    "plt.hist(corr2mean)\n",
    "plt.title('Subject similarity to mean image')\n",
    "plt.xlabel('correlation with mean image')"
   ]
  },
  {
   "cell_type": "code",
   "execution_count": null,
   "id": "a83b7c24",
   "metadata": {},
   "outputs": [],
   "source": [
    "argsort = np.argsort(corr2mean)"
   ]
  },
  {
   "cell_type": "code",
   "execution_count": null,
   "id": "9bbf9267",
   "metadata": {},
   "outputs": [],
   "source": [
    "i = len(argsort)-1\n",
    "ants.image_read(fn_temp.format(sub=folders[argsort[i]])).plot_ortho(flat=True,xyz_lines=False,orient_labels=False,title=f'ID:{argsort[i]} | {folders[argsort[i]]} | corr2mean:{corr2mean[argsort[i]]:.2f}',figsize=1.2,titlefontsize=20)"
   ]
  },
  {
   "cell_type": "code",
   "execution_count": null,
   "id": "821edb5b",
   "metadata": {},
   "outputs": [],
   "source": []
  },
  {
   "cell_type": "code",
   "execution_count": null,
   "id": "e952ee6d",
   "metadata": {},
   "outputs": [],
   "source": []
  },
  {
   "cell_type": "code",
   "execution_count": null,
   "id": "c2e261b2",
   "metadata": {},
   "outputs": [],
   "source": [
    "for i in range(5):\n",
    "    ants.image_read(fn_temp.format(sub=folders[argsort[i]])).plot_ortho(flat=True,xyz_lines=False,orient_labels=False,title=f'ID:{argsort[i]} | {folders[argsort[i]]} | corr2mean:{corr2mean[argsort[i]]:.2f}',figsize=1.2,titlefontsize=20)"
   ]
  },
  {
   "cell_type": "code",
   "execution_count": null,
   "id": "b17c9202",
   "metadata": {},
   "outputs": [],
   "source": []
  },
  {
   "cell_type": "code",
   "execution_count": null,
   "id": "162f503b",
   "metadata": {},
   "outputs": [],
   "source": []
  }
 ],
 "metadata": {
  "kernelspec": {
   "display_name": "Python 3 (ipykernel)",
   "language": "python",
   "name": "python3"
  },
  "language_info": {
   "codemirror_mode": {
    "name": "ipython",
    "version": 3
   },
   "file_extension": ".py",
   "mimetype": "text/x-python",
   "name": "python",
   "nbconvert_exporter": "python",
   "pygments_lexer": "ipython3",
   "version": "3.8.5"
  }
 },
 "nbformat": 4,
 "nbformat_minor": 5
}
