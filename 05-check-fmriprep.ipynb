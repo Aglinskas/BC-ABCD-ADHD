{
 "cells": [
  {
   "cell_type": "code",
   "execution_count": 1,
   "id": "27b2cd83",
   "metadata": {},
   "outputs": [
    {
     "name": "stderr",
     "output_type": "stream",
     "text": [
      "/data/aglinska/anaconda3/lib/python3.8/site-packages/pandas/core/computation/expressions.py:20: UserWarning: Pandas requires version '2.7.3' or newer of 'numexpr' (version '2.7.1' currently installed).\n",
      "  from pandas.core.computation.check import NUMEXPR_INSTALLED\n"
     ]
    }
   ],
   "source": [
    "import os\n",
    "from tqdm import tqdm\n",
    "import numpy as np\n",
    "\n",
    "from matplotlib import pyplot as plt\n",
    "from datetime import datetime\n",
    "import pandas as pd"
   ]
  },
  {
   "cell_type": "code",
   "execution_count": 4,
   "id": "a29f42cd",
   "metadata": {},
   "outputs": [
    {
     "name": "stdout",
     "output_type": "stream",
     "text": [
      "1.00|4835/4836\n"
     ]
    }
   ],
   "source": [
    "indir_before = './Data/ABCD-data-use-T0/'\n",
    "indir_after = './Data/ABCD-data-use-T0-fmriprepped//'\n",
    "ses = 'ses-baselineYear1Arm1'\n",
    "\n",
    "fn_temp = './Data/ABCD-data-use-T0-fmriprepped/{sub}/{ses}/anat/{sub}_{ses}_run-01_desc-preproc_T1w.nii.gz'\n",
    "#fn_temp = './Data/ABCD-data-use-T0-fmriprepped/{sub}/{ses}/anat/{sub}_{ses}_run-01_dseg.nii.gz'\n",
    "#fn_temp = './Data/ABCD-data-use-T0-fmriprepped/{sub}/{ses}/anat/{sub}_{ses}_run-01_label-GM_probseg.nii.gz'\n",
    "\n",
    "folders = [f for f in os.listdir(indir_before) if f.startswith('sub-')]\n",
    "folders.sort()\n",
    "\n",
    "check = np.array([os.path.exists(fn_temp.format(sub=sub,ses=ses)) for sub in folders])\n",
    "print(f'{check.mean():.2f}|{check.sum()}/{check.shape[0]}')"
   ]
  },
  {
   "cell_type": "code",
   "execution_count": 5,
   "id": "e83cfc75",
   "metadata": {},
   "outputs": [
    {
     "name": "stdout",
     "output_type": "stream",
     "text": [
      "1\n"
     ]
    }
   ],
   "source": [
    "subs_to_do = np.array(folders)[~check]\n",
    "print(len(subs_to_do))"
   ]
  },
  {
   "cell_type": "code",
   "execution_count": 8,
   "id": "a40228cb",
   "metadata": {},
   "outputs": [],
   "source": [
    "#subs_to_do"
   ]
  },
  {
   "cell_type": "code",
   "execution_count": 6,
   "id": "0ab1ab12",
   "metadata": {},
   "outputs": [],
   "source": [
    "# ## Plot Times\n",
    "# use_folders = np.array(folders)[check]\n",
    "# Ts = []\n",
    "\n",
    "# #sub = use_folders[0]\n",
    "# for sub in tqdm(use_folders):\n",
    "#     path = fn_temp.format(sub=sub,ses=ses)\n",
    "#     T = datetime.fromtimestamp(os.path.getmtime(path))\n",
    "#     Ts.append(T)\n",
    "    \n",
    "# df = pd.DataFrame(Ts,columns=['time'])\n",
    "# df['time'] = df['time'].astype(\"datetime64\")\n",
    "# df.groupby([df[\"time\"].dt.day, df[\"time\"].dt.hour]).count().plot(kind=\"bar\",figsize=(15,5))"
   ]
  },
  {
   "cell_type": "code",
   "execution_count": 57,
   "id": "ea1c3f76",
   "metadata": {},
   "outputs": [],
   "source": []
  },
  {
   "cell_type": "code",
   "execution_count": null,
   "id": "196ebfd7",
   "metadata": {},
   "outputs": [],
   "source": []
  },
  {
   "cell_type": "code",
   "execution_count": null,
   "id": "20cd8fea",
   "metadata": {},
   "outputs": [],
   "source": []
  },
  {
   "cell_type": "code",
   "execution_count": 3,
   "id": "4a3760c5",
   "metadata": {},
   "outputs": [
    {
     "name": "stdout",
     "output_type": "stream",
     "text": [
      "0.00|11/4034\n"
     ]
    }
   ],
   "source": [
    "indir_before = './Data/ABCD-data-use-T2/'\n",
    "indir_after = './Data/ABCD-data-use-T2-fmriprepped//'\n",
    "ses = 'ses-2YearFollowUpYArm1'\n",
    "\n",
    "fn_temp = './Data/ABCD-data-use-T2-fmriprepped/{sub}/{ses}/anat/{sub}_{ses}_run-01_desc-preproc_T1w.nii.gz'\n",
    "\n",
    "folders = [f for f in os.listdir(indir_before) if f.startswith('sub-')]\n",
    "folders.sort()\n",
    "\n",
    "check = np.array([os.path.exists(fn_temp.format(sub=sub,ses=ses)) for sub in folders])\n",
    "print(f'{check.mean():.2f}|{check.sum()}/{check.shape[0]}')"
   ]
  },
  {
   "cell_type": "code",
   "execution_count": null,
   "id": "468527a2",
   "metadata": {},
   "outputs": [],
   "source": []
  },
  {
   "cell_type": "code",
   "execution_count": null,
   "id": "dc7fc798",
   "metadata": {},
   "outputs": [],
   "source": []
  }
 ],
 "metadata": {
  "kernelspec": {
   "display_name": "Python 3 (ipykernel)",
   "language": "python",
   "name": "python3"
  },
  "language_info": {
   "codemirror_mode": {
    "name": "ipython",
    "version": 3
   },
   "file_extension": ".py",
   "mimetype": "text/x-python",
   "name": "python",
   "nbconvert_exporter": "python",
   "pygments_lexer": "ipython3",
   "version": "3.8.5"
  }
 },
 "nbformat": 4,
 "nbformat_minor": 5
}
