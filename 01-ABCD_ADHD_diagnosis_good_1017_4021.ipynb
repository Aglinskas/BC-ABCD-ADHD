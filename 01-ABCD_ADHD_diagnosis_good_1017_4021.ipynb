{
 "cells": [
  {
   "cell_type": "code",
   "execution_count": 4,
   "id": "7ab18ea7",
   "metadata": {},
   "outputs": [
    {
     "data": {
      "text/plain": [
       "'/Users/aidasaglinskas/Desktop/ABCD_ADHD'"
      ]
     },
     "execution_count": 4,
     "metadata": {},
     "output_type": "execute_result"
    }
   ],
   "source": [
    "pwd"
   ]
  },
  {
   "cell_type": "code",
   "execution_count": 5,
   "id": "95f3c251",
   "metadata": {},
   "outputs": [],
   "source": [
    "import pandas as pd\n",
    "import numpy as np\n",
    "from matplotlib import pyplot as plt"
   ]
  },
  {
   "cell_type": "code",
   "execution_count": 6,
   "id": "c5e3af3d",
   "metadata": {},
   "outputs": [],
   "source": [
    "fn = 'abcd_ksad01.csv'"
   ]
  },
  {
   "cell_type": "code",
   "execution_count": 7,
   "id": "71fb61ef",
   "metadata": {},
   "outputs": [],
   "source": [
    "#df_big = pd.read_csv(fn,low_memory=False)"
   ]
  },
  {
   "cell_type": "code",
   "execution_count": 8,
   "id": "afa7547d",
   "metadata": {},
   "outputs": [
    {
     "name": "stdout",
     "output_type": "stream",
     "text": [
      "(10522, 964)\n"
     ]
    }
   ],
   "source": [
    "df = pd.read_csv(fn,low_memory=False)\n",
    "df.iloc[1::]\n",
    "\n",
    "df = df.iloc[df['eventname'].values=='baseline_year_1_arm_1']\n",
    "df.head()\n",
    "print(df.shape)"
   ]
  },
  {
   "cell_type": "code",
   "execution_count": 9,
   "id": "e9c87d9f",
   "metadata": {},
   "outputs": [
    {
     "data": {
      "text/plain": [
       "904"
      ]
     },
     "execution_count": 9,
     "metadata": {},
     "output_type": "execute_result"
    }
   ],
   "source": [
    "## Inattention Subtype:  At least 6 of the following are met:\n",
    "inatt_vec1 = pd.to_numeric(df['ksads_14_394_p'][0::]).isin([1]) # Careless mistakes\n",
    "inatt_vec2 = pd.to_numeric(df['ksads_14_76_p'][0::]).isin([1]) # Difficulty sustaining attention\n",
    "inatt_vec3 = pd.to_numeric(df['ksads_14_395_p'][0::]).isin([1]) # Doesnt listen \n",
    "inatt_vec4 = pd.to_numeric(df['ksads_14_396_p'][0::]).isin([1]) # Diffulty folllowing instructions\n",
    "\n",
    "inatt_vec5 = pd.to_numeric(df['ksads_14_397_p'][0::]).isin([1]) # Symptom - Difficulty organizing tasks Present\n",
    "inatt_vec6 = pd.to_numeric(df['ksads_14_398_p'][0::]).isin([1]) #  Symptom - Avoids tasks requiring attention Present\n",
    "\n",
    "inatt_vec7 = pd.to_numeric(df['ksads_14_399_p'][0::]).isin([1]) # Often loses things Present\n",
    "inatt_vec8 = pd.to_numeric(df['ksads_14_80_p'][0::]).isin([1]) # Easily distracted\n",
    "inatt_vec9 = pd.to_numeric(df['ksads_14_400_p'][0::]).isin([1]) # Forgetful in daily activities\n",
    "\n",
    "inatt_vec_stacked = np.vstack(\n",
    "    (inatt_vec1.values,\n",
    "inatt_vec2.values,\n",
    "inatt_vec3.values,\n",
    "inatt_vec4.values,\n",
    "inatt_vec5.values,\n",
    "inatt_vec6.values,\n",
    "inatt_vec7.values,\n",
    "inatt_vec8.values,\n",
    "inatt_vec9.values)\n",
    ")\n",
    "\n",
    "(inatt_vec_stacked.sum(axis=0)>=6).sum()"
   ]
  },
  {
   "cell_type": "code",
   "execution_count": 10,
   "id": "fcf8bb1b",
   "metadata": {},
   "outputs": [
    {
     "data": {
      "text/plain": [
       "550"
      ]
     },
     "execution_count": 10,
     "metadata": {},
     "output_type": "execute_result"
    }
   ],
   "source": [
    "## Hyperactivity Subtype: At least 6 of the following are met:\n",
    "hyperact_vec1 = pd.to_numeric(df['ksads_14_401_p'][0::]).isin([1]) # Fidgets\n",
    "hyperact_vec2 = pd.to_numeric(df['ksads_14_84_p'][0::]).isin([1]) # Symptom - Difficulty remaining seated Present\n",
    "hyperact_vec3 = pd.to_numeric(df['ksads_14_402_p'][0::]).isin([1]) # Symptom - Runs or climbs excessively Present\n",
    "hyperact_vec4 = pd.to_numeric(df['ksads_14_403_p'][0::]).isin([1]) # Symptom - Acts like driven by a motor Present\n",
    "\n",
    "hyperact_vec5 = pd.to_numeric(df['ksads_14_404_p'][0::]).isin([1]) # Symptom - Difficulty playing quietly Present\n",
    "hyperact_vec6 = pd.to_numeric(df['ksads_14_405_p'][0::]).isin([1]) # Symptom - Blurts out answers Present\n",
    "\n",
    "hyperact_vec7 = pd.to_numeric(df['ksads_14_406_p'][0::]).isin([1]) # Symptom - Difficulty waiting turn Present\n",
    "hyperact_vec8 = pd.to_numeric(df['ksads_14_407_p'][0::]).isin([1]) # Symptom - Often Interrupts or intrudes on others Present\n",
    "hyperact_vec9 = pd.to_numeric(df['ksads_14_408_p'][0::]).isin([1]) # Symptom - Often talks excessively Present\n",
    "\n",
    "hyperact_vec_stacked = np.vstack(\n",
    "    (hyperact_vec1.values,\n",
    "    hyperact_vec2.values,\n",
    "    hyperact_vec3.values,\n",
    "    hyperact_vec4.values,\n",
    "    hyperact_vec5.values,\n",
    "    hyperact_vec6.values,\n",
    "    hyperact_vec7.values,\n",
    "    hyperact_vec8.values,\n",
    "    hyperact_vec9.values)\n",
    ")\n",
    "\n",
    "(hyperact_vec_stacked.sum(axis=0)>=6).sum()"
   ]
  },
  {
   "cell_type": "code",
   "execution_count": 11,
   "id": "74c257dc",
   "metadata": {},
   "outputs": [],
   "source": [
    "before_12_vec1 = pd.to_numeric(df['ksads_14_429_p'][0::]).isin([1]) # Symptom - Several symptoms present prior to age 12 years Present\n",
    "before_12_vec2 = pd.to_numeric(df['ksads_14_430_p'][0::]).isin([1]) # Symptom - Several symptoms present prior to age 12 years Past\n",
    "before_12_vec = before_12_vec1.values + before_12_vec2.values"
   ]
  },
  {
   "cell_type": "code",
   "execution_count": 12,
   "id": "fcef744a",
   "metadata": {},
   "outputs": [],
   "source": [
    "adhd_vec_final = (inatt_vec_stacked.sum(axis=0)>=6) + (hyperact_vec_stacked.sum(axis=0)>=6)\n",
    "adhd_vec_final = adhd_vec_final * before_12_vec"
   ]
  },
  {
   "cell_type": "code",
   "execution_count": 13,
   "id": "e22e7355",
   "metadata": {},
   "outputs": [
    {
     "data": {
      "text/plain": [
       "1017"
      ]
     },
     "execution_count": 13,
     "metadata": {},
     "output_type": "execute_result"
    }
   ],
   "source": [
    "adhd_vec_final.sum()"
   ]
  },
  {
   "cell_type": "code",
   "execution_count": 14,
   "id": "28f0ff28",
   "metadata": {},
   "outputs": [],
   "source": [
    "# Setting vec, TODO\n",
    "setting_vec1 = pd.to_numeric(df['ksads_14_425_p'][0::]).isin([1]) # Symptom - Symptoms interfere with social academic or occupational functioning Past"
   ]
  },
  {
   "cell_type": "code",
   "execution_count": 15,
   "id": "aa7c81ea",
   "metadata": {},
   "outputs": [
    {
     "data": {
      "text/plain": [
       "(10522,)"
      ]
     },
     "execution_count": 15,
     "metadata": {},
     "output_type": "execute_result"
    }
   ],
   "source": [
    "adhd_vec_final.shape"
   ]
  },
  {
   "cell_type": "code",
   "execution_count": 17,
   "id": "5754418a",
   "metadata": {},
   "outputs": [],
   "source": [
    "ADHD_names = list(df['subjectkey'].values[adhd_vec_final])"
   ]
  },
  {
   "cell_type": "code",
   "execution_count": 18,
   "id": "a1fc9019",
   "metadata": {},
   "outputs": [
    {
     "data": {
      "text/plain": [
       "4067"
      ]
     },
     "execution_count": 18,
     "metadata": {},
     "output_type": "execute_result"
    }
   ],
   "source": [
    "### ## NO Innatention\n",
    "\n",
    "td_inatt_vec1_present = pd.to_numeric(df['ksads_14_394_p'][0::]).isin([0]) # Careless mistakes | Present\n",
    "td_inatt_vec2_present = pd.to_numeric(df['ksads_14_76_p'][0::]).isin([0]) # Difficulty sustaining attention | Present\n",
    "td_inatt_vec3_present = pd.to_numeric(df['ksads_14_395_p'][0::]).isin([0]) # Doesnt listen | Present\n",
    "td_inatt_vec4_present = pd.to_numeric(df['ksads_14_396_p'][0::]).isin([0]) # Diffulty folllowing instructions| Present\n",
    "td_inatt_vec5_present = pd.to_numeric(df['ksads_14_397_p'][0::]).isin([0]) # Symptom - Difficulty organizing tasks Present | Present\n",
    "td_inatt_vec6_present = pd.to_numeric(df['ksads_14_398_p'][0::]).isin([0]) #  Symptom - Avoids tasks requiring attention | Present\n",
    "td_inatt_vec7_present = pd.to_numeric(df['ksads_14_399_p'][0::]).isin([0]) # Often loses things | Present\n",
    "td_inatt_vec8_present = pd.to_numeric(df['ksads_14_80_p'][0::]).isin([0]) # Easily distracted | Present\n",
    "td_inatt_vec9_present = pd.to_numeric(df['ksads_14_400_p'][0::]).isin([0]) # Forgetful in daily activities| Present\n",
    "\n",
    "td_inatt_vec1_past = pd.to_numeric(df['ksads_14_410_p'][0::]).isin([0]) # Careless mistakes | Past\n",
    "td_inatt_vec2_past = pd.to_numeric(df['ksads_14_78_p'][0::]).isin([0]) # Difficulty sustaining attention | Past\n",
    "td_inatt_vec3_past = pd.to_numeric(df['ksads_14_411_p'][0::]).isin([0]) # Doesnt listen | Past\n",
    "td_inatt_vec4_past = pd.to_numeric(df['ksads_14_412_p'][0::]).isin([0]) # Diffulty folllowing instructions| Past\n",
    "td_inatt_vec5_past = pd.to_numeric(df['ksads_14_413_p'][0::]).isin([0]) # Symptom - Difficulty organizing tasks Present | Past\n",
    "td_inatt_vec6_past = pd.to_numeric(df['ksads_14_414_p'][0::]).isin([0]) #  Symptom - Avoids tasks requiring attention | Past\n",
    "td_inatt_vec7_past = pd.to_numeric(df['ksads_14_415_p'][0::]).isin([0]) # Often loses things | Past\n",
    "td_inatt_vec8_past = pd.to_numeric(df['ksads_14_82_p'][0::]).isin([0]) # Easily distracted | Past\n",
    "td_inatt_vec9_past = pd.to_numeric(df['ksads_14_416_p'][0::]).isin([0]) # Forgetful in daily activities| Past\n",
    "\n",
    "temp1 = np.vstack((td_inatt_vec1_present.values,\n",
    "td_inatt_vec2_present.values,\n",
    "td_inatt_vec3_present.values,\n",
    "td_inatt_vec4_present.values,\n",
    "td_inatt_vec5_present.values,\n",
    "td_inatt_vec6_present.values,\n",
    "td_inatt_vec7_present.values,\n",
    "td_inatt_vec8_present.values,\n",
    "td_inatt_vec9_present.values))\n",
    "\n",
    "\n",
    "temp2 = np.vstack((td_inatt_vec1_past.values,\n",
    "td_inatt_vec2_past.values,\n",
    "td_inatt_vec3_past.values,\n",
    "td_inatt_vec4_past.values,\n",
    "td_inatt_vec5_past.values,\n",
    "td_inatt_vec6_past.values,\n",
    "td_inatt_vec7_past.values,\n",
    "td_inatt_vec8_past.values,\n",
    "td_inatt_vec9_past.values))\n",
    "\n",
    "td_no_innat = ((temp1.sum(axis=0)==9) * (temp2.sum(axis=0)==9))\n",
    "#td_no_innat = ((temp1.sum(axis=0)>=1) * (temp2.sum(axis=0)>=1))\n",
    "td_no_innat.sum()"
   ]
  },
  {
   "cell_type": "code",
   "execution_count": 19,
   "id": "a664b899",
   "metadata": {},
   "outputs": [
    {
     "data": {
      "text/plain": [
       "array([6423, 9307, 6141, 6155, 6188, 6168, 6399, 9376, 6176])"
      ]
     },
     "execution_count": 19,
     "metadata": {},
     "output_type": "execute_result"
    }
   ],
   "source": [
    "temp1.sum(axis=1)"
   ]
  },
  {
   "cell_type": "code",
   "execution_count": 20,
   "id": "aed6b2c9",
   "metadata": {},
   "outputs": [
    {
     "data": {
      "text/plain": [
       "array([5648, 8390, 5050, 5134, 5146, 5168, 5408, 8205, 5103])"
      ]
     },
     "execution_count": 20,
     "metadata": {},
     "output_type": "execute_result"
    }
   ],
   "source": [
    "temp2.sum(axis=1)"
   ]
  },
  {
   "cell_type": "code",
   "execution_count": 21,
   "id": "6308e0d0",
   "metadata": {},
   "outputs": [
    {
     "data": {
      "text/plain": [
       "4373"
      ]
     },
     "execution_count": 21,
     "metadata": {},
     "output_type": "execute_result"
    }
   ],
   "source": [
    "## NO Hyperactivity\n",
    "td_hyperact_vec1_present = pd.to_numeric(df['ksads_14_401_p'][0::]).isin([0]) # Fidgets Present\n",
    "td_hyperact_vec2_present = pd.to_numeric(df['ksads_14_84_p'][0::]).isin([0]) # Symptom - Difficulty remaining seated Present\n",
    "td_hyperact_vec3_present = pd.to_numeric(df['ksads_14_402_p'][0::]).isin([0]) # Symptom - Runs or climbs excessively Present\n",
    "td_hyperact_vec4_present = pd.to_numeric(df['ksads_14_403_p'][0::]).isin([0]) # Symptom - Acts like driven by a motor Present\n",
    "\n",
    "td_hyperact_vec5_present = pd.to_numeric(df['ksads_14_404_p'][0::]).isin([0]) # Symptom - Difficulty playing quietly Present\n",
    "td_hyperact_vec6_present = pd.to_numeric(df['ksads_14_405_p'][0::]).isin([0]) # Symptom - Blurts out answers Present\n",
    "\n",
    "td_hyperact_vec7_present = pd.to_numeric(df['ksads_14_406_p'][0::]).isin([0]) # Symptom - Difficulty waiting turn Present\n",
    "td_hyperact_vec8_present = pd.to_numeric(df['ksads_14_407_p'][0::]).isin([0]) # Symptom - Often Interrupts or intrudes on others Present\n",
    "td_hyperact_vec9_present = pd.to_numeric(df['ksads_14_408_p'][0::]).isin([0]) # Symptom - Often talks excessively Present\n",
    "\n",
    "\n",
    "td_hyperact_vec1_past = pd.to_numeric(df['ksads_14_417_p'][0::]).isin([0]) # Fidgets Past\n",
    "td_hyperact_vec2_past = pd.to_numeric(df['ksads_14_86_p'][0::]).isin([0]) # Symptom - Difficulty remaining seated Past\n",
    "td_hyperact_vec3_past = pd.to_numeric(df['ksads_14_418_p'][0::]).isin([0]) # Symptom - Runs or climbs excessively Past\n",
    "td_hyperact_vec4_past = pd.to_numeric(df['ksads_14_419_p'][0::]).isin([0]) # Symptom - Acts like driven by a motor Past\n",
    "\n",
    "td_hyperact_vec5_past = pd.to_numeric(df['ksads_14_420_p'][0::]).isin([0]) # Symptom - Difficulty playing quietly Past\n",
    "td_hyperact_vec6_past = pd.to_numeric(df['ksads_14_421_p'][0::]).isin([0]) # Symptom - Blurts out answers Past\n",
    "\n",
    "td_hyperact_vec7_past = pd.to_numeric(df['ksads_14_422_p'][0::]).isin([0]) # Symptom - Difficulty waiting turn Past\n",
    "td_hyperact_vec8_past = pd.to_numeric(df['ksads_14_423_p'][0::]).isin([0]) # Symptom - Often Interrupts or intrudes on others Past\n",
    "td_hyperact_vec9_past = pd.to_numeric(df['ksads_14_424_p'][0::]).isin([0]) # Symptom - Often talks excessively Past\n",
    "\n",
    "\n",
    "temp1 = np.vstack((td_hyperact_vec1_present,\n",
    "td_hyperact_vec2_present,\n",
    "td_hyperact_vec3_present,\n",
    "td_hyperact_vec4_present,\n",
    "td_hyperact_vec5_present,\n",
    "td_hyperact_vec6_present,\n",
    "td_hyperact_vec7_present,\n",
    "td_hyperact_vec8_present,\n",
    "td_hyperact_vec9_present))\n",
    "\n",
    "\n",
    "temp2 = np.vstack((td_hyperact_vec1_past,\n",
    "td_hyperact_vec2_past,\n",
    "td_hyperact_vec3_past,\n",
    "td_hyperact_vec4_past,\n",
    "td_hyperact_vec5_past,\n",
    "td_hyperact_vec6_past,\n",
    "td_hyperact_vec7_past,\n",
    "td_hyperact_vec8_past,\n",
    "td_hyperact_vec9_past))\n",
    "\n",
    "td_no_hyperact = ((temp1.sum(axis=0)==9) * (temp2.sum(axis=0)==9)) # No in at least one category \n",
    "td_no_hyperact.sum()"
   ]
  },
  {
   "cell_type": "code",
   "execution_count": 22,
   "id": "bbb82b71",
   "metadata": {},
   "outputs": [],
   "source": [
    "td_vec_final = (td_no_innat * td_no_hyperact)"
   ]
  },
  {
   "cell_type": "code",
   "execution_count": 23,
   "id": "70542b16",
   "metadata": {},
   "outputs": [],
   "source": [
    "TD_names = list(pd.unique(df['subjectkey'].values[td_vec_final]))"
   ]
  },
  {
   "cell_type": "code",
   "execution_count": 24,
   "id": "ad5fe6a6",
   "metadata": {},
   "outputs": [],
   "source": [
    "ages_adhd = pd.to_numeric(df['interview_age'][df['subjectkey'].isin(ADHD_names)].values)\n",
    "ages_td = pd.to_numeric(df['interview_age'][df['subjectkey'].isin(TD_names)].values)"
   ]
  },
  {
   "cell_type": "code",
   "execution_count": 25,
   "id": "c564023b",
   "metadata": {},
   "outputs": [],
   "source": [
    "sex_adhd = df['sex'][df['subjectkey'].isin(ADHD_names)].values=='M'\n",
    "sex_td = df['sex'][df['subjectkey'].isin(TD_names)].values=='M'"
   ]
  },
  {
   "cell_type": "code",
   "execution_count": 26,
   "id": "f26ae09b",
   "metadata": {},
   "outputs": [
    {
     "data": {
      "text/plain": [
       "0.6873156342182891"
      ]
     },
     "execution_count": 26,
     "metadata": {},
     "output_type": "execute_result"
    }
   ],
   "source": [
    "sex_adhd.mean()"
   ]
  },
  {
   "cell_type": "code",
   "execution_count": 27,
   "id": "39808897",
   "metadata": {},
   "outputs": [
    {
     "data": {
      "text/plain": [
       "0.47351405123103707"
      ]
     },
     "execution_count": 27,
     "metadata": {},
     "output_type": "execute_result"
    }
   ],
   "source": [
    "sex_td.mean()"
   ]
  },
  {
   "cell_type": "code",
   "execution_count": 28,
   "id": "d8b99206",
   "metadata": {},
   "outputs": [
    {
     "data": {
      "text/plain": [
       "(array([466., 444., 263., 465., 280., 507., 478., 324., 483., 311.]),\n",
       " array([ 8.91666667,  9.13333333,  9.35      ,  9.56666667,  9.78333333,\n",
       "        10.        , 10.21666667, 10.43333333, 10.65      , 10.86666667,\n",
       "        11.08333333]),\n",
       " <BarContainer object of 10 artists>)"
      ]
     },
     "execution_count": 28,
     "metadata": {},
     "output_type": "execute_result"
    },
    {
     "data": {
      "image/png": "[encoded data removed]",
      "text/plain": [
       "<Figure size 1080x360 with 2 Axes>"
      ]
     },
     "metadata": {
      "needs_background": "light"
     },
     "output_type": "display_data"
    }
   ],
   "source": [
    "plt.figure(figsize=(15,5))\n",
    "plt.subplot(1,2,1)\n",
    "plt.hist(ages_adhd/12)\n",
    "plt.subplot(1,2,2)\n",
    "plt.hist(ages_td/12)"
   ]
  },
  {
   "cell_type": "code",
   "execution_count": 34,
   "id": "545dd97e",
   "metadata": {},
   "outputs": [],
   "source": [
    "pd.DataFrame(ADHD_names,columns=['subjectkey']).to_csv(f'ABCD_ADHD_subjectIDs_N_{len(ADHD_names)}.csv')"
   ]
  },
  {
   "cell_type": "code",
   "execution_count": null,
   "id": "89ef41bc",
   "metadata": {},
   "outputs": [],
   "source": [
    "pd.DataFrame(TD_names,columns=['subjectkey']).to_csv(f'ABCD_NON_ADHD_subjectIDs_N_{len(TD_names)}.csv')"
   ]
  },
  {
   "cell_type": "code",
   "execution_count": null,
   "id": "ac9bb623",
   "metadata": {},
   "outputs": [],
   "source": []
  }
 ],
 "metadata": {
  "kernelspec": {
   "display_name": "Python 3 (ipykernel)",
   "language": "python",
   "name": "python3"
  },
  "language_info": {
   "codemirror_mode": {
    "name": "ipython",
    "version": 3
   },
   "file_extension": ".py",
   "mimetype": "text/x-python",
   "name": "python",
   "nbconvert_exporter": "python",
   "pygments_lexer": "ipython3",
   "version": "3.8.5"
  }
 },
 "nbformat": 4,
 "nbformat_minor": 5
}
