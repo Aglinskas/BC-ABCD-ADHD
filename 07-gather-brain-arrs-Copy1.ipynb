{
 "cells": [
  {
   "cell_type": "code",
   "execution_count": 1,
   "id": "e8cdba2b",
   "metadata": {},
   "outputs": [
    {
     "data": {
      "text/plain": [
       "'/mmfs1/data/aglinska/BC-ABCD-ADHD'"
      ]
     },
     "execution_count": 1,
     "metadata": {},
     "output_type": "execute_result"
    }
   ],
   "source": [
    "pwd"
   ]
  },
  {
   "cell_type": "code",
   "execution_count": 18,
   "id": "ea9b379a",
   "metadata": {},
   "outputs": [],
   "source": [
    "import os\n",
    "import numpy as np\n",
    "import pandas as pd\n",
    "from matplotlib import pyplot as plt\n",
    "from tqdm import tqdm"
   ]
  },
  {
   "cell_type": "code",
   "execution_count": 34,
   "id": "2d70188b",
   "metadata": {},
   "outputs": [
    {
     "name": "stdout",
     "output_type": "stream",
     "text": [
      "['sub-NDARINV5MJHVEB8' 'sub-NDARINV36E4JVZ2' 'sub-NDARINVKDZKAC4L']\n",
      "['sub-NDARINV7JERJG3Z' 'sub-NDARINVD505AZ4G' 'sub-NDARINV2LD0E2FB']\n"
     ]
    }
   ],
   "source": [
    "subs_td = pd.read_csv('./Derivatives/ABCD_NON_ADHD_subjectIDs_N_4021.csv')\n",
    "subs_td = subs_td['subjectkey'].values\n",
    "\n",
    "subs_adhd = pd.read_csv('./Derivatives/ABCD_ADHD_subjectIDs_N_1017.csv')\n",
    "subs_adhd = subs_adhd['subjectkey'].values\n",
    "\n",
    "subs_adhd = [f'sub-{val}'.replace('_','') for val in subs_adhd]\n",
    "subs_td = [f'sub-{val}'.replace('_','') for val in subs_td]\n",
    "\n",
    "subs_adhd = np.array(subs_adhd)\n",
    "subs_td = np.array(subs_td)\n",
    "\n",
    "print(subs_td[0:3])\n",
    "print(subs_adhd[0:3])"
   ]
  },
  {
   "cell_type": "code",
   "execution_count": 22,
   "id": "5eb7bebb",
   "metadata": {},
   "outputs": [
    {
     "name": "stdout",
     "output_type": "stream",
     "text": [
      "4021\n",
      "1017\n"
     ]
    }
   ],
   "source": [
    "print(len(subs_td))\n",
    "print(len(subs_adhd))"
   ]
  },
  {
   "cell_type": "code",
   "execution_count": 23,
   "id": "ebd86643",
   "metadata": {},
   "outputs": [],
   "source": [
    "# _brain_arr_orig.npz\n",
    "#_brain_arr_aligned.npz\n",
    "arr_fn = './Data/ABCD-brains-T0/{sub}_brain_arr_aligned.npz'"
   ]
  },
  {
   "cell_type": "code",
   "execution_count": 26,
   "id": "a286fa6a",
   "metadata": {},
   "outputs": [],
   "source": [
    "check_exists_adhd = np.array([os.path.exists(arr_fn.format(sub=sub)) for sub in subs_adhd])\n",
    "check_exists_td = np.array([os.path.exists(arr_fn.format(sub=sub)) for sub in subs_td])"
   ]
  },
  {
   "cell_type": "code",
   "execution_count": 33,
   "id": "d5f59f47",
   "metadata": {},
   "outputs": [
    {
     "name": "stdout",
     "output_type": "stream",
     "text": [
      "ADHD: 0.91 | 928/1017\n",
      "TD: 0.93 | 3735/4021\n"
     ]
    }
   ],
   "source": [
    "print(f'ADHD: {check_exists_adhd.mean().mean():.2f} | {check_exists_adhd.sum()}/{check_exists_adhd.shape[0]}')\n",
    "print(f'TD: {check_exists_td.mean().mean():.2f} | {check_exists_td.sum()}/{check_exists_td.shape[0]}')"
   ]
  },
  {
   "cell_type": "code",
   "execution_count": 35,
   "id": "678f9b82",
   "metadata": {},
   "outputs": [],
   "source": [
    "subs_adhd_use = subs_adhd[check_exists_adhd]\n",
    "subs_td_td_use = subs_td[check_exists_td]"
   ]
  },
  {
   "cell_type": "code",
   "execution_count": 37,
   "id": "32ca6791",
   "metadata": {},
   "outputs": [
    {
     "name": "stdout",
     "output_type": "stream",
     "text": [
      "(928,)\n",
      "(3735,)\n"
     ]
    }
   ],
   "source": [
    "print(subs_adhd_use.shape)\n",
    "print(subs_td_td_use.shape)"
   ]
  },
  {
   "cell_type": "code",
   "execution_count": 43,
   "id": "32ac6c8f",
   "metadata": {},
   "outputs": [
    {
     "name": "stdout",
     "output_type": "stream",
     "text": [
      "(5, 64, 64, 64)\n"
     ]
    }
   ],
   "source": [
    "arr_adhd = np.array([np.load(arr_fn.format(sub=sub))['arr'] for sub in subs_adhd_use[0:5]])\n",
    "print(arr_adhd.shape)"
   ]
  },
  {
   "cell_type": "code",
   "execution_count": null,
   "id": "157bbaea",
   "metadata": {},
   "outputs": [],
   "source": [
    "plt.imshow(arr_adhd.mean(axis=0)[0,:,:,32])"
   ]
  },
  {
   "cell_type": "code",
   "execution_count": null,
   "id": "aeb87557",
   "metadata": {},
   "outputs": [],
   "source": []
  },
  {
   "cell_type": "code",
   "execution_count": null,
   "id": "e9bc0ab6",
   "metadata": {},
   "outputs": [],
   "source": []
  }
 ],
 "metadata": {
  "kernelspec": {
   "display_name": "Python 3 (ipykernel)",
   "language": "python",
   "name": "python3"
  },
  "language_info": {
   "codemirror_mode": {
    "name": "ipython",
    "version": 3
   },
   "file_extension": ".py",
   "mimetype": "text/x-python",
   "name": "python",
   "nbconvert_exporter": "python",
   "pygments_lexer": "ipython3",
   "version": "3.8.5"
  }
 },
 "nbformat": 4,
 "nbformat_minor": 5
}
