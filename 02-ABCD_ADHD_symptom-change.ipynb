{
 "cells": [
  {
   "cell_type": "code",
   "execution_count": 1,
   "id": "fd1bcd8c-c352-47c9-b7f7-0ea446f42392",
   "metadata": {},
   "outputs": [
    {
     "data": {
      "text/plain": [
       "'/Users/aidasaglinskas/Desktop/ABCD_ADHD'"
      ]
     },
     "execution_count": 1,
     "metadata": {},
     "output_type": "execute_result"
    }
   ],
   "source": [
    "pwd"
   ]
  },
  {
   "cell_type": "code",
   "execution_count": 166,
   "id": "b1142202-3dad-4c54-83bc-e2a1693548df",
   "metadata": {},
   "outputs": [],
   "source": [
    "import pandas as pd\n",
    "import numpy as np\n",
    "from matplotlib import pyplot as plt\n",
    "import seaborn as sns\n",
    "from tqdm import tqdm"
   ]
  },
  {
   "cell_type": "code",
   "execution_count": 152,
   "id": "59a2a7e1-44e0-4377-ac61-9d03054f472f",
   "metadata": {},
   "outputs": [
    {
     "data": {
      "text/plain": [
       "(4021,)"
      ]
     },
     "execution_count": 152,
     "metadata": {},
     "output_type": "execute_result"
    }
   ],
   "source": [
    "#subjects_adhd = pd.read_csv('ABCD_ADHD_subjectIDs_N_1017.csv')\n",
    "subjects_adhd = pd.read_csv('ABCD_NON_ADHD_subjectIDs_N_4021.csv')\n",
    "subjects_adhd = subjects_adhd['subjectkey'].values\n",
    "subjects_adhd.shape"
   ]
  },
  {
   "cell_type": "code",
   "execution_count": 153,
   "id": "0a9dd182-f3cc-4c78-8184-c034a39e0375",
   "metadata": {},
   "outputs": [
    {
     "name": "stdout",
     "output_type": "stream",
     "text": [
      "(31196, 964)\n"
     ]
    }
   ],
   "source": [
    "fn = 'abcd_ksad01.csv'\n",
    "df = pd.read_csv(fn,low_memory=False)\n",
    "df.iloc[1::]\n",
    "\n",
    "#df = df.iloc[df['eventname'].values=='baseline_year_1_arm_1']\n",
    "\n",
    "df_baseline = df.iloc[df['eventname'].values=='baseline_year_1_arm_1']\n",
    "df_1year = df.iloc[df['eventname'].values=='1_year_follow_up_y_arm_1']\n",
    "df_2year = df.iloc[df['eventname'].values=='2_year_follow_up_y_arm_1']\n",
    "\n",
    "print(df.shape)"
   ]
  },
  {
   "cell_type": "code",
   "execution_count": 154,
   "id": "a438c318-e8b2-42d4-bd20-8f43189ea5b4",
   "metadata": {},
   "outputs": [
    {
     "data": {
      "text/plain": [
       "18"
      ]
     },
     "execution_count": 154,
     "metadata": {},
     "output_type": "execute_result"
    }
   ],
   "source": [
    "cols_inatt = ['ksads_14_394_p','ksads_14_76_p','ksads_14_395_p','ksads_14_396_p','ksads_14_397_p','ksads_14_398_p','ksads_14_399_p','ksads_14_80_p','ksads_14_400_p']\n",
    "cols_hyper = ['ksads_14_401_p','ksads_14_84_p','ksads_14_402_p','ksads_14_403_p','ksads_14_404_p','ksads_14_405_p','ksads_14_406_p','ksads_14_407_p','ksads_14_408_p']\n",
    "cols_symp = ['ksads_14_394_p','ksads_14_76_p','ksads_14_395_p','ksads_14_396_p','ksads_14_397_p','ksads_14_398_p','ksads_14_399_p','ksads_14_80_p','ksads_14_400_p','ksads_14_401_p','ksads_14_84_p','ksads_14_402_p','ksads_14_403_p','ksads_14_404_p','ksads_14_405_p','ksads_14_406_p','ksads_14_407_p','ksads_14_408_p']\n",
    "len(cols_symp)"
   ]
  },
  {
   "cell_type": "code",
   "execution_count": 182,
   "id": "1d35c0ea-4a21-4a8d-9098-bdde6a1e0565",
   "metadata": {},
   "outputs": [
    {
     "name": "stdout",
     "output_type": "stream",
     "text": [
      "9.92\n",
      "10.93\n",
      "12.0\n"
     ]
    }
   ],
   "source": [
    "print((pd.to_numeric(df_baseline['interview_age']).values.mean()/12).round(2))\n",
    "print((pd.to_numeric(df_1year['interview_age']).values.mean()/12).round(2))\n",
    "print((pd.to_numeric(df_2year['interview_age']).values.mean()/12).round(2))"
   ]
  },
  {
   "cell_type": "code",
   "execution_count": null,
   "id": "15f2d574-816a-4207-8e7a-5e6952aa4292",
   "metadata": {},
   "outputs": [],
   "source": []
  },
  {
   "cell_type": "code",
   "execution_count": 156,
   "id": "5da75d5b-23ac-48ca-942b-2d37b79ca707",
   "metadata": {},
   "outputs": [
    {
     "data": {
      "text/plain": [
       "4021"
      ]
     },
     "execution_count": 156,
     "metadata": {},
     "output_type": "execute_result"
    }
   ],
   "source": [
    "df_baseline['subjectkey'].isin(subjects_adhd).sum()"
   ]
  },
  {
   "cell_type": "code",
   "execution_count": 157,
   "id": "892340bb-5030-49bb-b5df-d66d6bdd4c69",
   "metadata": {},
   "outputs": [
    {
     "data": {
      "text/plain": [
       "3919"
      ]
     },
     "execution_count": 157,
     "metadata": {},
     "output_type": "execute_result"
    }
   ],
   "source": [
    "df_1year['subjectkey'].isin(subjects_adhd).sum()"
   ]
  },
  {
   "cell_type": "code",
   "execution_count": 158,
   "id": "f1a8a373-6f9a-4d1a-b618-879fae9a9667",
   "metadata": {},
   "outputs": [
    {
     "data": {
      "text/plain": [
       "3954"
      ]
     },
     "execution_count": 158,
     "metadata": {},
     "output_type": "execute_result"
    }
   ],
   "source": [
    "df_2year['subjectkey'].isin(subjects_adhd).sum()"
   ]
  },
  {
   "cell_type": "code",
   "execution_count": 184,
   "id": "1bec0cba-63c0-4b91-8a02-8c95c7849ef4",
   "metadata": {},
   "outputs": [],
   "source": [
    "def get_symptom_mat(use_df,subjects_adhd,cols_symp):\n",
    "    \n",
    "    ns = len(subjects_adhd)\n",
    "    nc = len(cols_symp)\n",
    "    data = np.zeros((ns,nc))\n",
    "    data.shape\n",
    "    \n",
    "    for s in tqdm(range(ns)):\n",
    "        for c in range(nc):\n",
    "            subID = subjects_adhd[s]\n",
    "            arr = pd.to_numeric(use_df[use_df['subjectkey']==subID][cols_symp[c]]).values\n",
    "\n",
    "            if len(arr) > 0:\n",
    "                val = arr[0]==1\n",
    "            else:\n",
    "                val = np.nan\n",
    "\n",
    "            data[s,c] = val\n",
    "        \n",
    "    return data"
   ]
  },
  {
   "cell_type": "code",
   "execution_count": 204,
   "id": "24d71b9f-bf23-4b3d-aeb7-952083f347af",
   "metadata": {},
   "outputs": [
    {
     "name": "stderr",
     "output_type": "stream",
     "text": [
      "100%|██████████████████████████████████████| 4021/4021 [00:32<00:00, 123.03it/s]\n",
      "100%|██████████████████████████████████████| 4021/4021 [00:31<00:00, 128.22it/s]\n",
      "100%|██████████████████████████████████████| 4021/4021 [00:32<00:00, 124.02it/s]"
     ]
    },
    {
     "name": "stdout",
     "output_type": "stream",
     "text": [
      "CPU times: user 1min 35s, sys: 1.33 s, total: 1min 36s\n",
      "Wall time: 1min 36s\n"
     ]
    },
    {
     "name": "stderr",
     "output_type": "stream",
     "text": [
      "\n"
     ]
    }
   ],
   "source": [
    "%%time\n",
    "symptom_mat_T0 = get_symptom_mat(df_baseline,subjects_adhd,cols_symp)\n",
    "symptom_mat_T1 = get_symptom_mat(df_1year,subjects_adhd,cols_symp)\n",
    "symptom_mat_T2 = get_symptom_mat(df_2year,subjects_adhd,cols_symp)"
   ]
  },
  {
   "cell_type": "code",
   "execution_count": 205,
   "id": "450b0984-e23d-4eea-983a-5292958a0c73",
   "metadata": {},
   "outputs": [],
   "source": [
    "# %%time\n",
    "# symptom_mat_T0 = get_symptom_mat(df_baseline,subjects_adhd,cols_hyper)\n",
    "# symptom_mat_T1 = get_symptom_mat(df_1year,subjects_adhd,cols_hyper)\n",
    "# symptom_mat_T2 = get_symptom_mat(df_2year,subjects_adhd,cols_hyper)"
   ]
  },
  {
   "cell_type": "code",
   "execution_count": 206,
   "id": "a28fcc9b-22c9-48de-b875-08119647ff91",
   "metadata": {},
   "outputs": [],
   "source": [
    "# %%time\n",
    "# symptom_mat_T0 = get_symptom_mat(df_baseline,subjects_adhd,cols_inatt)\n",
    "# symptom_mat_T1 = get_symptom_mat(df_1year,subjects_adhd,cols_inatt)\n",
    "# symptom_mat_T2 = get_symptom_mat(df_2year,subjects_adhd,cols_inatt)"
   ]
  },
  {
   "cell_type": "code",
   "execution_count": 207,
   "id": "1b21a151-138b-4762-b240-fddd9e4cf49f",
   "metadata": {},
   "outputs": [
    {
     "name": "stdout",
     "output_type": "stream",
     "text": [
      "0\n",
      "1836\n",
      "1206\n"
     ]
    }
   ],
   "source": [
    "print(np.isnan(symptom_mat_T0).sum())\n",
    "print(np.isnan(symptom_mat_T1).sum())\n",
    "print(np.isnan(symptom_mat_T2).sum())"
   ]
  },
  {
   "cell_type": "code",
   "execution_count": 208,
   "id": "1fd3ab59-211e-4ead-af51-4abf37cccca7",
   "metadata": {},
   "outputs": [
    {
     "data": {
      "text/plain": [
       "(2, 3954, 18)"
      ]
     },
     "execution_count": 208,
     "metadata": {},
     "output_type": "execute_result"
    }
   ],
   "source": [
    "mat = np.array([symptom_mat_T0,symptom_mat_T2])\n",
    "mat = mat[:,np.isnan(mat).sum(axis=0).sum(axis=-1)==0,:]\n",
    "assert np.isnan(mat).sum()==0\n",
    "mat.shape"
   ]
  },
  {
   "cell_type": "code",
   "execution_count": 209,
   "id": "c5df5db6-c6e9-439a-94d9-f8dae7b5f2ac",
   "metadata": {},
   "outputs": [
    {
     "data": {
      "text/plain": [
       "(2, 3954)"
      ]
     },
     "execution_count": 209,
     "metadata": {},
     "output_type": "execute_result"
    }
   ],
   "source": [
    "mat_sum = mat.sum(axis=-1)\n",
    "mat_sum.shape"
   ]
  },
  {
   "cell_type": "code",
   "execution_count": 210,
   "id": "173bb45b-ab22-4bf0-99e8-7c7cf5d2976a",
   "metadata": {},
   "outputs": [],
   "source": [
    "mat_diff = mat_sum[0,:]-mat_sum[1,:]"
   ]
  },
  {
   "cell_type": "code",
   "execution_count": 211,
   "id": "c0a26df7-c9a6-41bb-bf7c-eb427d62e1e4",
   "metadata": {},
   "outputs": [
    {
     "data": {
      "text/plain": [
       "Text(0, 0.5, '# Subjects')"
      ]
     },
     "execution_count": 211,
     "metadata": {},
     "output_type": "execute_result"
    },
    {
     "data": {
      "image/png": "[encoded data removed]",
      "text/plain": [
       "<Figure size 720x432 with 1 Axes>"
      ]
     },
     "metadata": {
      "needs_background": "light"
     },
     "output_type": "display_data"
    }
   ],
   "source": [
    "plt.figure(figsize=np.array((10,6))*1  )\n",
    "\n",
    "mat_worse = mat_diff[mat_diff<0]\n",
    "mat_stay = mat_diff[mat_diff==0]\n",
    "mat_improve = mat_diff[mat_diff>0]\n",
    "sns.histplot(mat_worse,color='r')\n",
    "sns.histplot(mat_stay,color='b')\n",
    "sns.histplot(mat_improve,color='g')\n",
    "\n",
    "plt.legend([f'Symptoms Worsenened N={len(mat_worse)}',\n",
    "            f'Symptoms Constant N={len(mat_stay)}',\n",
    "            f'Symptoms Improved N={len(mat_improve)}'])\n",
    "\n",
    "plt.xlabel('Sum. Symptom Change (Time0-Time1)')\n",
    "plt.ylabel('# Subjects')"
   ]
  },
  {
   "cell_type": "code",
   "execution_count": null,
   "id": "53592603-31a7-42ef-a0dd-b18dcd54d544",
   "metadata": {},
   "outputs": [],
   "source": []
  },
  {
   "cell_type": "code",
   "execution_count": null,
   "id": "38ef267c-aae6-4957-ae43-59a24b8b566f",
   "metadata": {},
   "outputs": [],
   "source": []
  },
  {
   "cell_type": "code",
   "execution_count": null,
   "id": "b718b44b-67f2-4f9b-9e8d-8fc0812b7cfb",
   "metadata": {},
   "outputs": [],
   "source": []
  },
  {
   "cell_type": "code",
   "execution_count": null,
   "id": "d48acdef-d24a-4bc4-b655-e39ebcf2c826",
   "metadata": {},
   "outputs": [],
   "source": []
  },
  {
   "cell_type": "code",
   "execution_count": null,
   "id": "68f3ed00-0574-4b7b-b5e9-2a50bc91299e",
   "metadata": {},
   "outputs": [],
   "source": []
  }
 ],
 "metadata": {
  "kernelspec": {
   "display_name": "Python 3 (ipykernel)",
   "language": "python",
   "name": "python3"
  },
  "language_info": {
   "codemirror_mode": {
    "name": "ipython",
    "version": 3
   },
   "file_extension": ".py",
   "mimetype": "text/x-python",
   "name": "python",
   "nbconvert_exporter": "python",
   "pygments_lexer": "ipython3",
   "version": "3.9.7"
  }
 },
 "nbformat": 4,
 "nbformat_minor": 5
}
