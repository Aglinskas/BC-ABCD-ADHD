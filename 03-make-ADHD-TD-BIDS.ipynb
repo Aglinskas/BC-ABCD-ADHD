{
 "cells": [
  {
   "cell_type": "code",
   "execution_count": 83,
   "id": "4a311b01",
   "metadata": {},
   "outputs": [],
   "source": [
    "import pandas as pd\n",
    "import os\n",
    "import shutil\n",
    "from tqdm import tqdm\n",
    "import numpy as np"
   ]
  },
  {
   "cell_type": "code",
   "execution_count": 121,
   "id": "26a47c79",
   "metadata": {},
   "outputs": [],
   "source": [
    "def safe_mkdir(fn):\n",
    "    import os\n",
    "    if not os.path.exists(fn):\n",
    "        os.mkdir(fn)\n",
    "        \n",
    "def safe_mkdir_subdirs(fn):\n",
    "    fn_split = fn.split('/')\n",
    "    n = len(fn.split('/'))\n",
    "    paths = ['/'.join(fn_split[0:i]) for i in range(0,n) if len('/'.join(fn_split[0:i]))>1]\n",
    "    for path in paths:\n",
    "        safe_mkdir(path)"
   ]
  },
  {
   "cell_type": "code",
   "execution_count": 9,
   "id": "39c4d28d",
   "metadata": {},
   "outputs": [
    {
     "data": {
      "text/plain": [
       "0    NDAR_INV7JERJG3Z\n",
       "1    NDAR_INVD505AZ4G\n",
       "2    NDAR_INV2LD0E2FB\n",
       "3    NDAR_INV6EJF2KCZ\n",
       "4    NDAR_INV2K2KV0JW\n",
       "Name: subjectkey, dtype: object"
      ]
     },
     "execution_count": 9,
     "metadata": {},
     "output_type": "execute_result"
    }
   ],
   "source": [
    "df_adhd = pd.read_csv('./Derivatives/ABCD_ADHD_subjectIDs_N_1017.csv')\n",
    "df_td = pd.read_csv('./Derivatives/ABCD_NON_ADHD_subjectIDs_N_4021.csv')\n",
    "df_adhd['subjectkey'][0:5]"
   ]
  },
  {
   "cell_type": "code",
   "execution_count": 18,
   "id": "5d887555",
   "metadata": {},
   "outputs": [
    {
     "data": {
      "text/plain": [
       "['sub-NDARINV7JERJG3Z',\n",
       " 'sub-NDARINVD505AZ4G',\n",
       " 'sub-NDARINV2LD0E2FB',\n",
       " 'sub-NDARINV6EJF2KCZ',\n",
       " 'sub-NDARINV2K2KV0JW']"
      ]
     },
     "execution_count": 18,
     "metadata": {},
     "output_type": "execute_result"
    }
   ],
   "source": [
    "names_adhd = ['sub-'+sub.replace('_','') for sub in df_adhd['subjectkey'].values]\n",
    "names_td = ['sub-'+sub.replace('_','') for sub in df_td['subjectkey'].values]\n",
    "names_adhd[0:5]"
   ]
  },
  {
   "cell_type": "code",
   "execution_count": 12,
   "id": "6acfc56e",
   "metadata": {},
   "outputs": [
    {
     "data": {
      "text/plain": [
       "['sub-NDARINV005V6D2C',\n",
       " 'sub-NDARINV007W6H7B',\n",
       " 'sub-NDARINV00BD7VDC',\n",
       " 'sub-NDARINV00CY2MDM',\n",
       " 'sub-NDARINV00HEV6HB']"
      ]
     },
     "execution_count": 12,
     "metadata": {},
     "output_type": "execute_result"
    }
   ],
   "source": [
    "anat_dir = './Data/ABCDdata/'\n",
    "anat_subs = [folder for folder in os.listdir(anat_dir) if folder.startswith('sub-')]\n",
    "anat_subs.sort()\n",
    "anat_subs[0:5]"
   ]
  },
  {
   "cell_type": "code",
   "execution_count": 21,
   "id": "36888974",
   "metadata": {},
   "outputs": [
    {
     "data": {
      "text/plain": [
       "True"
      ]
     },
     "execution_count": 21,
     "metadata": {},
     "output_type": "execute_result"
    }
   ],
   "source": [
    "len(pd.unique(anat_subs))==len(anat_subs)"
   ]
  },
  {
   "cell_type": "code",
   "execution_count": 42,
   "id": "575be71d",
   "metadata": {},
   "outputs": [
    {
     "name": "stdout",
     "output_type": "stream",
     "text": [
      "ADHD has anats: 97.84% | 995/1017\n"
     ]
    }
   ],
   "source": [
    "check_adhd = pd.DataFrame(names_adhd,columns=['subID'])['subID'].isin(anat_subs).values\n",
    "print(f'ADHD has anats: {check_adhd.mean()*100:.2f}% | {check_adhd.sum()}/{check_adhd.shape[0]}')"
   ]
  },
  {
   "cell_type": "code",
   "execution_count": 46,
   "id": "cb333f4b",
   "metadata": {},
   "outputs": [
    {
     "name": "stdout",
     "output_type": "stream",
     "text": [
      "TD has anats: 98.91% | 3977/4021\n"
     ]
    }
   ],
   "source": [
    "check_td = pd.DataFrame(names_td,columns=['subID'])['subID'].isin(anat_subs).values\n",
    "print(f'TD has anats: {check_td.mean()*100:.2f}% | {check_td.sum()}/{check_td.shape[0]}')"
   ]
  },
  {
   "cell_type": "code",
   "execution_count": 55,
   "id": "a44963e9",
   "metadata": {},
   "outputs": [],
   "source": [
    "new_dir = './Data/ABCD-data-use/'"
   ]
  },
  {
   "cell_type": "code",
   "execution_count": 62,
   "id": "23755768",
   "metadata": {},
   "outputs": [
    {
     "name": "stderr",
     "output_type": "stream",
     "text": [
      "100%|███████████████████████████████████████| 1017/1017 [09:33<00:00,  1.77it/s]\n"
     ]
    }
   ],
   "source": [
    "## Copy ADHD subjects\n",
    "for sub in tqdm(names_adhd):\n",
    "    if sub in anat_subs:\n",
    "        indir = os.path.join(anat_dir,sub)\n",
    "        outdir = os.path.join(new_dir,sub)\n",
    "        if not os.path.exists(outdir):\n",
    "            shutil.copytree(src=indir,dst=outdir)"
   ]
  },
  {
   "cell_type": "code",
   "execution_count": 63,
   "id": "bd40245a",
   "metadata": {},
   "outputs": [
    {
     "name": "stderr",
     "output_type": "stream",
     "text": [
      "100%|███████████████████████████████████████| 4021/4021 [18:55<00:00,  3.54it/s]\n"
     ]
    }
   ],
   "source": [
    "## Copy TD subjects\n",
    "for sub in tqdm(names_td):\n",
    "    if sub in anat_subs:\n",
    "        indir = os.path.join(anat_dir,sub)\n",
    "        outdir = os.path.join(new_dir,sub)\n",
    "        if not os.path.exists(outdir):\n",
    "            shutil.copytree(src=indir,dst=outdir)"
   ]
  },
  {
   "cell_type": "code",
   "execution_count": 108,
   "id": "96b7dd3e",
   "metadata": {},
   "outputs": [
    {
     "name": "stderr",
     "output_type": "stream",
     "text": [
      "100%|████████████████████████████████████| 1017/1017 [00:00<00:00, 13545.27it/s]\n"
     ]
    }
   ],
   "source": [
    "## How many ADHD subjects have two sessions\n",
    "\n",
    "has_1st = []\n",
    "has_2nd = []\n",
    "has_both = []\n",
    "\n",
    "#all_sess = []\n",
    "for name_adhd in tqdm(names_adhd):\n",
    "    try:\n",
    "        #all_sess.append(os.listdir(os.path.join(anat_dir,name_adhd)))\n",
    "        has1 = 'ses-baselineYear1Arm1' in os.listdir(os.path.join(anat_dir,name_adhd))\n",
    "        has2 = 'ses-2YearFollowUpYArm1' in os.listdir(os.path.join(anat_dir,name_adhd))\n",
    "        has_1_2 = all(('ses-baselineYear1Arm1' in os.listdir(os.path.join(anat_dir,name_adhd)),'ses-2YearFollowUpYArm1' in os.listdir(os.path.join(anat_dir,name_adhd))))\n",
    "    except:\n",
    "        has1 = False\n",
    "        has2 = False\n",
    "        has_1_2 = False\n",
    "\n",
    "    has_1st.append(has1)\n",
    "    has_2nd.append(has2)\n",
    "    has_both.append(has_1_2)"
   ]
  },
  {
   "cell_type": "code",
   "execution_count": 112,
   "id": "6ec9cf70",
   "metadata": {},
   "outputs": [
    {
     "name": "stdout",
     "output_type": "stream",
     "text": [
      "959/1017\n"
     ]
    }
   ],
   "source": [
    "print(f'first session: {np.array(has_1st).sum()}/{len(has_1st)}')"
   ]
  },
  {
   "cell_type": "code",
   "execution_count": 113,
   "id": "7370e232",
   "metadata": {},
   "outputs": [
    {
     "name": "stdout",
     "output_type": "stream",
     "text": [
      "742/1017\n"
     ]
    }
   ],
   "source": [
    "print(f'second session: {np.array(has_2nd).sum()}/{len(has_2nd)}')"
   ]
  },
  {
   "cell_type": "code",
   "execution_count": 114,
   "id": "6d567030",
   "metadata": {},
   "outputs": [
    {
     "name": "stdout",
     "output_type": "stream",
     "text": [
      "706/1017\n"
     ]
    }
   ],
   "source": [
    "print(f'both sessions: {np.array(has_both).sum()}/{len(has_both)}')"
   ]
  },
  {
   "cell_type": "code",
   "execution_count": null,
   "id": "0f8e18d8",
   "metadata": {},
   "outputs": [],
   "source": []
  },
  {
   "cell_type": "markdown",
   "id": "05ade37f",
   "metadata": {},
   "source": [
    "## Split into sessions T0 and T2"
   ]
  },
  {
   "cell_type": "code",
   "execution_count": 119,
   "id": "3bd582ee",
   "metadata": {},
   "outputs": [
    {
     "data": {
      "text/plain": [
       "['sub-NDARINV007W6H7B',\n",
       " 'sub-NDARINV00LJVZK2',\n",
       " 'sub-NDARINV00U4FTRU',\n",
       " 'sub-NDARINV00X2TBWJ',\n",
       " 'sub-NDARINV014RTM1V']"
      ]
     },
     "execution_count": 119,
     "metadata": {},
     "output_type": "execute_result"
    }
   ],
   "source": [
    "new_dir = './Data/ABCD-data-use/'\n",
    "folders = [folder for folder in os.listdir(new_dir) if folder.startswith('sub-')]\n",
    "folders.sort()\n",
    "folders[0:5]"
   ]
  },
  {
   "cell_type": "code",
   "execution_count": 120,
   "id": "74d3642e",
   "metadata": {},
   "outputs": [],
   "source": [
    "new_dir_t0 = './Data/ABCD-data-use-T0/'\n",
    "new_dir_t2 = './Data/ABCD-data-use-T2/'"
   ]
  },
  {
   "cell_type": "code",
   "execution_count": 166,
   "id": "c5f32bec",
   "metadata": {},
   "outputs": [
    {
     "data": {
      "text/plain": [
       "'./Data/ABCD-data-use-T0/dataset_description.json'"
      ]
     },
     "execution_count": 166,
     "metadata": {},
     "output_type": "execute_result"
    }
   ],
   "source": [
    "shutil.copyfile(os.path.join(anat_dir,'dataset_description.json'),\n",
    "               os.path.join(new_dir_t0,'dataset_description.json'))"
   ]
  },
  {
   "cell_type": "code",
   "execution_count": 168,
   "id": "9f2fa988",
   "metadata": {},
   "outputs": [
    {
     "data": {
      "text/plain": [
       "'./Data/ABCD-data-use-T2/dataset_description.json'"
      ]
     },
     "execution_count": 168,
     "metadata": {},
     "output_type": "execute_result"
    }
   ],
   "source": [
    "shutil.copyfile(os.path.join(anat_dir,'dataset_description.json'),\n",
    "               os.path.join(new_dir_t2,'dataset_description.json'))"
   ]
  },
  {
   "cell_type": "code",
   "execution_count": 125,
   "id": "ccb3f1ed",
   "metadata": {},
   "outputs": [],
   "source": [
    "safe_mkdir(new_dir_t0)\n",
    "safe_mkdir(new_dir_t2)"
   ]
  },
  {
   "cell_type": "code",
   "execution_count": 153,
   "id": "8eb07818",
   "metadata": {},
   "outputs": [
    {
     "name": "stderr",
     "output_type": "stream",
     "text": [
      "100%|███████████████████████████████████████| 4972/4972 [20:23<00:00,  4.06it/s]\n"
     ]
    }
   ],
   "source": [
    "for sub in tqdm(folders):\n",
    "    subpath_orig = os.path.join(new_dir,sub)\n",
    "    subpath_orig_conts = os.listdir(subpath_orig)\n",
    "    \n",
    "    # Copy out first session \n",
    "    if 'ses-baselineYear1Arm1' in subpath_orig_conts:\n",
    "        if not os.path.exists(os.path.join(new_dir_t0,sub,'ses-baselineYear1Arm1')):\n",
    "            safe_mkdir(os.path.join(new_dir_t0,sub))\n",
    "            shutil.copytree(src=os.path.join(new_dir,sub,'ses-baselineYear1Arm1'),\n",
    "                           dst=os.path.join(new_dir_t0,sub,'ses-baselineYear1Arm1'))\n",
    "            \n",
    "    if 'ses-2YearFollowUpYArm1' in subpath_orig_conts:\n",
    "        if not os.path.exists(os.path.join(new_dir_t2,sub,'ses-2YearFollowUpYArm1')):\n",
    "            safe_mkdir(os.path.join(new_dir_t2,sub))\n",
    "            shutil.copytree(src=os.path.join(new_dir,sub,'ses-2YearFollowUpYArm1'),\n",
    "                           dst=os.path.join(new_dir_t2,sub,'ses-2YearFollowUpYArm1'))"
   ]
  },
  {
   "cell_type": "code",
   "execution_count": 157,
   "id": "b2daa127",
   "metadata": {},
   "outputs": [
    {
     "data": {
      "text/plain": [
       "4836"
      ]
     },
     "execution_count": 157,
     "metadata": {},
     "output_type": "execute_result"
    }
   ],
   "source": [
    "len([i for i in os.listdir(new_dir_t0) if i.startswith('sub-')])"
   ]
  },
  {
   "cell_type": "code",
   "execution_count": 158,
   "id": "73cd2e60",
   "metadata": {},
   "outputs": [
    {
     "data": {
      "text/plain": [
       "4034"
      ]
     },
     "execution_count": 158,
     "metadata": {},
     "output_type": "execute_result"
    }
   ],
   "source": [
    "len([i for i in os.listdir(new_dir_t2) if i.startswith('sub-')])"
   ]
  },
  {
   "cell_type": "code",
   "execution_count": 152,
   "id": "b612acbb",
   "metadata": {},
   "outputs": [],
   "source": []
  },
  {
   "cell_type": "code",
   "execution_count": null,
   "id": "0c76789f",
   "metadata": {},
   "outputs": [],
   "source": []
  },
  {
   "cell_type": "code",
   "execution_count": null,
   "id": "ab1f47a9",
   "metadata": {},
   "outputs": [],
   "source": []
  },
  {
   "cell_type": "code",
   "execution_count": 64,
   "id": "ae16e475",
   "metadata": {},
   "outputs": [],
   "source": [
    "## THEN LAUNCH '''SBATCH slurm-01-fmriprep-anats.sh'''"
   ]
  },
  {
   "cell_type": "code",
   "execution_count": null,
   "id": "8fcc3089",
   "metadata": {},
   "outputs": [],
   "source": []
  }
 ],
 "metadata": {
  "kernelspec": {
   "display_name": "Python 3 (ipykernel)",
   "language": "python",
   "name": "python3"
  },
  "language_info": {
   "codemirror_mode": {
    "name": "ipython",
    "version": 3
   },
   "file_extension": ".py",
   "mimetype": "text/x-python",
   "name": "python",
   "nbconvert_exporter": "python",
   "pygments_lexer": "ipython3",
   "version": "3.8.5"
  }
 },
 "nbformat": 4,
 "nbformat_minor": 5
}
