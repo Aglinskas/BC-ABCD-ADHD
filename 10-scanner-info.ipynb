{
 "cells": [
  {
   "cell_type": "code",
   "execution_count": 1,
   "metadata": {},
   "outputs": [
    {
     "data": {
      "text/plain": [
       "'/mmfs1/data/aglinska/BC-ABCD-ADHD'"
      ]
     },
     "execution_count": 1,
     "metadata": {},
     "output_type": "execute_result"
    }
   ],
   "source": [
    "pwd"
   ]
  },
  {
   "cell_type": "code",
   "execution_count": 2,
   "metadata": {},
   "outputs": [],
   "source": [
    "import pandas as pd\n",
    "import os\n",
    "import numpy as np"
   ]
  },
  {
   "cell_type": "code",
   "execution_count": 3,
   "metadata": {},
   "outputs": [
    {
     "data": {
      "text/plain": [
       "array(['NDAR_INV7JERJG3Z', 'NDAR_INVD505AZ4G', 'NDAR_INV2LD0E2FB', ...,\n",
       "       'NDAR_INVKCW9B4TJ', 'NDAR_INVMWH0MZFX', 'NDAR_INV3WRKC6EJ'],\n",
       "      dtype=object)"
      ]
     },
     "execution_count": 3,
     "metadata": {},
     "output_type": "execute_result"
    }
   ],
   "source": [
    "subs_adhd = pd.read_csv('./Derivatives/ABCD_ADHD_subjectIDs_N_1017.csv')['subjectkey'].values\n",
    "subs_td = pd.read_csv('./Derivatives/ABCD_NON_ADHD_subjectIDs_N_4021.csv')['subjectkey'].values\n",
    "subs_all = np.hstack((subs_adhd,subs_td))\n",
    "subs_all"
   ]
  },
  {
   "cell_type": "code",
   "execution_count": 4,
   "metadata": {},
   "outputs": [
    {
     "name": "stdout",
     "output_type": "stream",
     "text": [
      "(5012, 18)\n"
     ]
    },
    {
     "data": {
      "text/html": [
       "<div>\n",
       "<style scoped>\n",
       "    .dataframe tbody tr th:only-of-type {\n",
       "        vertical-align: middle;\n",
       "    }\n",
       "\n",
       "    .dataframe tbody tr th {\n",
       "        vertical-align: top;\n",
       "    }\n",
       "\n",
       "    .dataframe thead th {\n",
       "        text-align: right;\n",
       "    }\n",
       "</style>\n",
       "<table border=\"1\" class=\"dataframe\">\n",
       "  <thead>\n",
       "    <tr style=\"text-align: right;\">\n",
       "      <th></th>\n",
       "      <th>Unnamed: 0</th>\n",
       "      <th>collection_id</th>\n",
       "      <th>abcd_mri01_id</th>\n",
       "      <th>dataset_id</th>\n",
       "      <th>subjectkey</th>\n",
       "      <th>src_subject_id</th>\n",
       "      <th>interview_date</th>\n",
       "      <th>interview_age</th>\n",
       "      <th>sex</th>\n",
       "      <th>eventname</th>\n",
       "      <th>mri_info_visitid</th>\n",
       "      <th>mri_info_manufacturer</th>\n",
       "      <th>mri_info_manufacturersmn</th>\n",
       "      <th>mri_info_deviceserialnumber</th>\n",
       "      <th>mri_info_magneticfieldstrength</th>\n",
       "      <th>mri_info_softwareversion</th>\n",
       "      <th>mri_info_studydate</th>\n",
       "      <th>collection_title</th>\n",
       "    </tr>\n",
       "  </thead>\n",
       "  <tbody>\n",
       "    <tr>\n",
       "      <th>4</th>\n",
       "      <td>4</td>\n",
       "      <td>2573</td>\n",
       "      <td>140581</td>\n",
       "      <td>47494</td>\n",
       "      <td>NDAR_INV1ZPJCKVC</td>\n",
       "      <td>NDAR_INV1ZPJCKVC</td>\n",
       "      <td>10/02/2017</td>\n",
       "      <td>107</td>\n",
       "      <td>M</td>\n",
       "      <td>baseline_year_1_arm_1</td>\n",
       "      <td>S076_INV1ZPJCKVC_baseline</td>\n",
       "      <td>SIEMENS</td>\n",
       "      <td>Prisma</td>\n",
       "      <td>HASH03db707f</td>\n",
       "      <td>3</td>\n",
       "      <td>syngo MR E11</td>\n",
       "      <td>10/02/2017</td>\n",
       "      <td>Adolescent Brain Cognitive Development Study (...</td>\n",
       "    </tr>\n",
       "    <tr>\n",
       "      <th>8</th>\n",
       "      <td>8</td>\n",
       "      <td>2573</td>\n",
       "      <td>139975</td>\n",
       "      <td>47494</td>\n",
       "      <td>NDAR_INV0VXEC29A</td>\n",
       "      <td>NDAR_INV0VXEC29A</td>\n",
       "      <td>04/05/2018</td>\n",
       "      <td>125</td>\n",
       "      <td>F</td>\n",
       "      <td>baseline_year_1_arm_1</td>\n",
       "      <td>P023_INV0VXEC29A_baseline</td>\n",
       "      <td>Philips Medical Systems</td>\n",
       "      <td>Ingenia</td>\n",
       "      <td>HASH5ac2b20b</td>\n",
       "      <td>3</td>\n",
       "      <td>5.3.15.3.1.1</td>\n",
       "      <td>04/05/2018</td>\n",
       "      <td>Adolescent Brain Cognitive Development Study (...</td>\n",
       "    </tr>\n",
       "    <tr>\n",
       "      <th>12</th>\n",
       "      <td>12</td>\n",
       "      <td>2573</td>\n",
       "      <td>147410</td>\n",
       "      <td>47494</td>\n",
       "      <td>NDAR_INVAYDXW667</td>\n",
       "      <td>NDAR_INVAYDXW667</td>\n",
       "      <td>11/08/2016</td>\n",
       "      <td>110</td>\n",
       "      <td>M</td>\n",
       "      <td>baseline_year_1_arm_1</td>\n",
       "      <td>S011_INVAYDXW667_baseline</td>\n",
       "      <td>SIEMENS</td>\n",
       "      <td>Prisma</td>\n",
       "      <td>HASH5b0cf1bb</td>\n",
       "      <td>3</td>\n",
       "      <td>syngo MR E11</td>\n",
       "      <td>11/08/2016</td>\n",
       "      <td>Adolescent Brain Cognitive Development Study (...</td>\n",
       "    </tr>\n",
       "    <tr>\n",
       "      <th>13</th>\n",
       "      <td>13</td>\n",
       "      <td>2573</td>\n",
       "      <td>153999</td>\n",
       "      <td>47494</td>\n",
       "      <td>NDAR_INVJH22CRH8</td>\n",
       "      <td>NDAR_INVJH22CRH8</td>\n",
       "      <td>10/07/2017</td>\n",
       "      <td>109</td>\n",
       "      <td>F</td>\n",
       "      <td>baseline_year_1_arm_1</td>\n",
       "      <td>G075_INVJH22CRH8_baseline</td>\n",
       "      <td>GE MEDICAL SYSTEMS</td>\n",
       "      <td>DISCOVERY MR750</td>\n",
       "      <td>HASH69f406fa</td>\n",
       "      <td>3</td>\n",
       "      <td>27LXMR Software release:DV25.1_R01_1617.b</td>\n",
       "      <td>10/07/2017</td>\n",
       "      <td>Adolescent Brain Cognitive Development Study (...</td>\n",
       "    </tr>\n",
       "    <tr>\n",
       "      <th>15</th>\n",
       "      <td>15</td>\n",
       "      <td>2573</td>\n",
       "      <td>141120</td>\n",
       "      <td>47494</td>\n",
       "      <td>NDAR_INV2EJZCHYV</td>\n",
       "      <td>NDAR_INV2EJZCHYV</td>\n",
       "      <td>07/31/2017</td>\n",
       "      <td>108</td>\n",
       "      <td>M</td>\n",
       "      <td>baseline_year_1_arm_1</td>\n",
       "      <td>S053_INV2EJZCHYV_baseline</td>\n",
       "      <td>SIEMENS</td>\n",
       "      <td>Prisma</td>\n",
       "      <td>HASHe76e6d72</td>\n",
       "      <td>3</td>\n",
       "      <td>syngo MR E11</td>\n",
       "      <td>08/22/2017</td>\n",
       "      <td>Adolescent Brain Cognitive Development Study (...</td>\n",
       "    </tr>\n",
       "  </tbody>\n",
       "</table>\n",
       "</div>"
      ],
      "text/plain": [
       "    Unnamed: 0 collection_id abcd_mri01_id dataset_id        subjectkey  \\\n",
       "4            4          2573        140581      47494  NDAR_INV1ZPJCKVC   \n",
       "8            8          2573        139975      47494  NDAR_INV0VXEC29A   \n",
       "12          12          2573        147410      47494  NDAR_INVAYDXW667   \n",
       "13          13          2573        153999      47494  NDAR_INVJH22CRH8   \n",
       "15          15          2573        141120      47494  NDAR_INV2EJZCHYV   \n",
       "\n",
       "      src_subject_id interview_date interview_age sex              eventname  \\\n",
       "4   NDAR_INV1ZPJCKVC     10/02/2017           107   M  baseline_year_1_arm_1   \n",
       "8   NDAR_INV0VXEC29A     04/05/2018           125   F  baseline_year_1_arm_1   \n",
       "12  NDAR_INVAYDXW667     11/08/2016           110   M  baseline_year_1_arm_1   \n",
       "13  NDAR_INVJH22CRH8     10/07/2017           109   F  baseline_year_1_arm_1   \n",
       "15  NDAR_INV2EJZCHYV     07/31/2017           108   M  baseline_year_1_arm_1   \n",
       "\n",
       "             mri_info_visitid    mri_info_manufacturer  \\\n",
       "4   S076_INV1ZPJCKVC_baseline                  SIEMENS   \n",
       "8   P023_INV0VXEC29A_baseline  Philips Medical Systems   \n",
       "12  S011_INVAYDXW667_baseline                  SIEMENS   \n",
       "13  G075_INVJH22CRH8_baseline       GE MEDICAL SYSTEMS   \n",
       "15  S053_INV2EJZCHYV_baseline                  SIEMENS   \n",
       "\n",
       "   mri_info_manufacturersmn mri_info_deviceserialnumber  \\\n",
       "4                    Prisma                HASH03db707f   \n",
       "8                   Ingenia                HASH5ac2b20b   \n",
       "12                   Prisma                HASH5b0cf1bb   \n",
       "13          DISCOVERY MR750                HASH69f406fa   \n",
       "15                   Prisma                HASHe76e6d72   \n",
       "\n",
       "   mri_info_magneticfieldstrength                   mri_info_softwareversion  \\\n",
       "4                               3                               syngo MR E11   \n",
       "8                               3                               5.3.15.3.1.1   \n",
       "12                              3                               syngo MR E11   \n",
       "13                              3  27LXMR Software release:DV25.1_R01_1617.b   \n",
       "15                              3                               syngo MR E11   \n",
       "\n",
       "   mri_info_studydate                                   collection_title  \n",
       "4          10/02/2017  Adolescent Brain Cognitive Development Study (...  \n",
       "8          04/05/2018  Adolescent Brain Cognitive Development Study (...  \n",
       "12         11/08/2016  Adolescent Brain Cognitive Development Study (...  \n",
       "13         10/07/2017  Adolescent Brain Cognitive Development Study (...  \n",
       "15         08/22/2017  Adolescent Brain Cognitive Development Study (...  "
      ]
     },
     "execution_count": 4,
     "metadata": {},
     "output_type": "execute_result"
    }
   ],
   "source": [
    "df_scanner = pd.read_csv('./Data/ABCD-behav/abcd_mri01.csv')\n",
    "df_scanner = df_scanner.iloc[1::]\n",
    "\n",
    "vec1 = df_scanner['subjectkey'].isin(subs_all).values\n",
    "vec2 = df_scanner['eventname'].isin(['baseline_year_1_arm_1']).values\n",
    "df_scanner = df_scanner.iloc[vec1*vec2]\n",
    "\n",
    "\n",
    "print(df_scanner.shape)\n",
    "df_scanner.head()"
   ]
  },
  {
   "cell_type": "code",
   "execution_count": 5,
   "metadata": {},
   "outputs": [
    {
     "data": {
      "text/plain": [
       "(29,)"
      ]
     },
     "execution_count": 5,
     "metadata": {},
     "output_type": "execute_result"
    }
   ],
   "source": [
    "np.unique(df_scanner['mri_info_deviceserialnumber'].values).shape"
   ]
  },
  {
   "cell_type": "code",
   "execution_count": 6,
   "metadata": {},
   "outputs": [],
   "source": [
    "df_scanner_adhd = df_scanner.iloc[df_scanner['subjectkey'].isin(subs_adhd).values]\n",
    "df_scanner_td = df_scanner.iloc[df_scanner['subjectkey'].isin(subs_td).values]"
   ]
  },
  {
   "cell_type": "code",
   "execution_count": 7,
   "metadata": {},
   "outputs": [],
   "source": [
    "df_scanner_use = pd.concat((df_scanner_adhd,df_scanner_td))"
   ]
  },
  {
   "cell_type": "code",
   "execution_count": 8,
   "metadata": {},
   "outputs": [
    {
     "data": {
      "text/plain": [
       "(array(['HASH03db707f', 'HASH11ad4ed5', 'HASH1314a204', 'HASH311170b9',\n",
       "        'HASH31ce566d', 'HASH3935c89e', 'HASH48f7cbc3', 'HASH4b0b8b05',\n",
       "        'HASH4d1ed7b1', 'HASH5ac2b20b', 'HASH5b0cf1bb', 'HASH5b2fcf80',\n",
       "        'HASH65b39280', 'HASH69f406fa', 'HASH6b4422a7', 'HASH7911780b',\n",
       "        'HASH7f91147d', 'HASH96a0c182', 'HASHa3e45734', 'HASHb640a1b8',\n",
       "        'HASHc3bf3d9c', 'HASHc9398971', 'HASHd422be27', 'HASHd7cb4c6d',\n",
       "        'HASHdb2589d4', 'HASHe3ce02d3', 'HASHe4f6957a', 'HASHe76e6d72',\n",
       "        'HASHfeb7e81a'], dtype=object),\n",
       " array([40, 25, 37, 37,  7, 87,  4, 52, 35, 50, 35, 42, 25, 21, 24, 39,  7,\n",
       "        65, 29, 54, 50, 19, 40, 38, 44, 16, 54,  1, 34]))"
      ]
     },
     "execution_count": 8,
     "metadata": {},
     "output_type": "execute_result"
    }
   ],
   "source": [
    "np.unique(df_scanner_adhd['mri_info_deviceserialnumber'].values,return_counts=True)"
   ]
  },
  {
   "cell_type": "code",
   "execution_count": 9,
   "metadata": {},
   "outputs": [
    {
     "data": {
      "text/plain": [
       "1.0"
      ]
     },
     "execution_count": 9,
     "metadata": {},
     "output_type": "execute_result"
    }
   ],
   "source": [
    "temp = df_scanner_td['mri_info_deviceserialnumber'].isin(np.unique(df_scanner_adhd['mri_info_deviceserialnumber'].values))\n",
    "temp.mean()"
   ]
  },
  {
   "cell_type": "code",
   "execution_count": 10,
   "metadata": {},
   "outputs": [
    {
     "data": {
      "text/plain": [
       "(array(['HASH03db707f', 'HASH11ad4ed5', 'HASH1314a204', 'HASH311170b9',\n",
       "        'HASH31ce566d', 'HASH3935c89e', 'HASH48f7cbc3', 'HASH4b0b8b05',\n",
       "        'HASH4d1ed7b1', 'HASH5ac2b20b', 'HASH5b0cf1bb', 'HASH5b2fcf80',\n",
       "        'HASH65b39280', 'HASH69f406fa', 'HASH6b4422a7', 'HASH7911780b',\n",
       "        'HASH7f91147d', 'HASH96a0c182', 'HASHa3e45734', 'HASHb640a1b8',\n",
       "        'HASHc3bf3d9c', 'HASHc9398971', 'HASHd422be27', 'HASHd7cb4c6d',\n",
       "        'HASHdb2589d4', 'HASHe3ce02d3', 'HASHe4f6957a', 'HASHe76e6d72',\n",
       "        'HASHfeb7e81a'], dtype=object),\n",
       " array([114, 247, 209, 103,  21, 378,  16, 178, 153, 218, 232, 113,   1,\n",
       "         32, 130, 132,  32, 169, 103, 220, 235, 159,  93, 256, 229,  16,\n",
       "         96,  12, 104]))"
      ]
     },
     "execution_count": 10,
     "metadata": {},
     "output_type": "execute_result"
    }
   ],
   "source": [
    "np.unique(df_scanner_td['mri_info_deviceserialnumber'].values,return_counts=True)"
   ]
  },
  {
   "cell_type": "code",
   "execution_count": 11,
   "metadata": {},
   "outputs": [
    {
     "data": {
      "text/html": [
       "<div>\n",
       "<style scoped>\n",
       "    .dataframe tbody tr th:only-of-type {\n",
       "        vertical-align: middle;\n",
       "    }\n",
       "\n",
       "    .dataframe tbody tr th {\n",
       "        vertical-align: top;\n",
       "    }\n",
       "\n",
       "    .dataframe thead th {\n",
       "        text-align: right;\n",
       "    }\n",
       "</style>\n",
       "<table border=\"1\" class=\"dataframe\">\n",
       "  <thead>\n",
       "    <tr style=\"text-align: right;\">\n",
       "      <th></th>\n",
       "      <th>src_subject_id</th>\n",
       "      <th>subjectkey</th>\n",
       "      <th>interview_age</th>\n",
       "      <th>sex</th>\n",
       "      <th>eventname</th>\n",
       "      <th>mri_info_deviceserialnumber</th>\n",
       "    </tr>\n",
       "  </thead>\n",
       "  <tbody>\n",
       "    <tr>\n",
       "      <th>8</th>\n",
       "      <td>NDAR_INV0VXEC29A</td>\n",
       "      <td>NDAR_INV0VXEC29A</td>\n",
       "      <td>125</td>\n",
       "      <td>F</td>\n",
       "      <td>baseline_year_1_arm_1</td>\n",
       "      <td>HASH5ac2b20b</td>\n",
       "    </tr>\n",
       "    <tr>\n",
       "      <th>20</th>\n",
       "      <td>NDAR_INVXWXUUU18</td>\n",
       "      <td>NDAR_INVXWXUUU18</td>\n",
       "      <td>109</td>\n",
       "      <td>M</td>\n",
       "      <td>baseline_year_1_arm_1</td>\n",
       "      <td>HASH69f406fa</td>\n",
       "    </tr>\n",
       "    <tr>\n",
       "      <th>70</th>\n",
       "      <td>NDAR_INVZ4NNCTMH</td>\n",
       "      <td>NDAR_INVZ4NNCTMH</td>\n",
       "      <td>125</td>\n",
       "      <td>F</td>\n",
       "      <td>baseline_year_1_arm_1</td>\n",
       "      <td>HASH1314a204</td>\n",
       "    </tr>\n",
       "    <tr>\n",
       "      <th>75</th>\n",
       "      <td>NDAR_INVKT7E0NA1</td>\n",
       "      <td>NDAR_INVKT7E0NA1</td>\n",
       "      <td>131</td>\n",
       "      <td>M</td>\n",
       "      <td>baseline_year_1_arm_1</td>\n",
       "      <td>HASH4b0b8b05</td>\n",
       "    </tr>\n",
       "    <tr>\n",
       "      <th>78</th>\n",
       "      <td>NDAR_INV20CZ5PTX</td>\n",
       "      <td>NDAR_INV20CZ5PTX</td>\n",
       "      <td>130</td>\n",
       "      <td>M</td>\n",
       "      <td>baseline_year_1_arm_1</td>\n",
       "      <td>HASHdb2589d4</td>\n",
       "    </tr>\n",
       "    <tr>\n",
       "      <th>...</th>\n",
       "      <td>...</td>\n",
       "      <td>...</td>\n",
       "      <td>...</td>\n",
       "      <td>...</td>\n",
       "      <td>...</td>\n",
       "      <td>...</td>\n",
       "    </tr>\n",
       "    <tr>\n",
       "      <th>18302</th>\n",
       "      <td>NDAR_INV1EGW0J5N</td>\n",
       "      <td>NDAR_INV1EGW0J5N</td>\n",
       "      <td>109</td>\n",
       "      <td>M</td>\n",
       "      <td>baseline_year_1_arm_1</td>\n",
       "      <td>HASHb640a1b8</td>\n",
       "    </tr>\n",
       "    <tr>\n",
       "      <th>18304</th>\n",
       "      <td>NDAR_INV2F729N9A</td>\n",
       "      <td>NDAR_INV2F729N9A</td>\n",
       "      <td>117</td>\n",
       "      <td>F</td>\n",
       "      <td>baseline_year_1_arm_1</td>\n",
       "      <td>HASHc3bf3d9c</td>\n",
       "    </tr>\n",
       "    <tr>\n",
       "      <th>18305</th>\n",
       "      <td>NDAR_INVMAW066K7</td>\n",
       "      <td>NDAR_INVMAW066K7</td>\n",
       "      <td>120</td>\n",
       "      <td>F</td>\n",
       "      <td>baseline_year_1_arm_1</td>\n",
       "      <td>HASH96a0c182</td>\n",
       "    </tr>\n",
       "    <tr>\n",
       "      <th>18314</th>\n",
       "      <td>NDAR_INV5DJB8FFX</td>\n",
       "      <td>NDAR_INV5DJB8FFX</td>\n",
       "      <td>114</td>\n",
       "      <td>F</td>\n",
       "      <td>baseline_year_1_arm_1</td>\n",
       "      <td>HASH5ac2b20b</td>\n",
       "    </tr>\n",
       "    <tr>\n",
       "      <th>18316</th>\n",
       "      <td>NDAR_INV19BR9YHW</td>\n",
       "      <td>NDAR_INV19BR9YHW</td>\n",
       "      <td>111</td>\n",
       "      <td>F</td>\n",
       "      <td>baseline_year_1_arm_1</td>\n",
       "      <td>HASH3935c89e</td>\n",
       "    </tr>\n",
       "  </tbody>\n",
       "</table>\n",
       "<p>5012 rows × 6 columns</p>\n",
       "</div>"
      ],
      "text/plain": [
       "         src_subject_id        subjectkey interview_age sex  \\\n",
       "8      NDAR_INV0VXEC29A  NDAR_INV0VXEC29A           125   F   \n",
       "20     NDAR_INVXWXUUU18  NDAR_INVXWXUUU18           109   M   \n",
       "70     NDAR_INVZ4NNCTMH  NDAR_INVZ4NNCTMH           125   F   \n",
       "75     NDAR_INVKT7E0NA1  NDAR_INVKT7E0NA1           131   M   \n",
       "78     NDAR_INV20CZ5PTX  NDAR_INV20CZ5PTX           130   M   \n",
       "...                 ...               ...           ...  ..   \n",
       "18302  NDAR_INV1EGW0J5N  NDAR_INV1EGW0J5N           109   M   \n",
       "18304  NDAR_INV2F729N9A  NDAR_INV2F729N9A           117   F   \n",
       "18305  NDAR_INVMAW066K7  NDAR_INVMAW066K7           120   F   \n",
       "18314  NDAR_INV5DJB8FFX  NDAR_INV5DJB8FFX           114   F   \n",
       "18316  NDAR_INV19BR9YHW  NDAR_INV19BR9YHW           111   F   \n",
       "\n",
       "                   eventname mri_info_deviceserialnumber  \n",
       "8      baseline_year_1_arm_1                HASH5ac2b20b  \n",
       "20     baseline_year_1_arm_1                HASH69f406fa  \n",
       "70     baseline_year_1_arm_1                HASH1314a204  \n",
       "75     baseline_year_1_arm_1                HASH4b0b8b05  \n",
       "78     baseline_year_1_arm_1                HASHdb2589d4  \n",
       "...                      ...                         ...  \n",
       "18302  baseline_year_1_arm_1                HASHb640a1b8  \n",
       "18304  baseline_year_1_arm_1                HASHc3bf3d9c  \n",
       "18305  baseline_year_1_arm_1                HASH96a0c182  \n",
       "18314  baseline_year_1_arm_1                HASH5ac2b20b  \n",
       "18316  baseline_year_1_arm_1                HASH3935c89e  \n",
       "\n",
       "[5012 rows x 6 columns]"
      ]
     },
     "execution_count": 11,
     "metadata": {},
     "output_type": "execute_result"
    }
   ],
   "source": [
    "df_rsa = df_scanner_use[['src_subject_id','subjectkey','interview_age','sex','eventname','mri_info_deviceserialnumber']]\n",
    "df_rsa"
   ]
  },
  {
   "cell_type": "code",
   "execution_count": 17,
   "metadata": {},
   "outputs": [],
   "source": [
    "u = pd.unique(df_rsa['mri_info_deviceserialnumber'].values)"
   ]
  },
  {
   "cell_type": "code",
   "execution_count": 34,
   "metadata": {},
   "outputs": [
    {
     "name": "stdout",
     "output_type": "stream",
     "text": [
      "HASH5ac2b20b|268\n",
      "HASH69f406fa|053\n",
      "HASH1314a204|246\n",
      "HASH4b0b8b05|230\n",
      "HASHdb2589d4|273\n",
      "HASH03db707f|154\n",
      "HASHb640a1b8|274\n",
      "HASHe4f6957a|150\n",
      "HASHd422be27|133\n",
      "HASH96a0c182|234\n",
      "HASHe3ce02d3|032\n",
      "HASH5b2fcf80|155\n",
      "HASH4d1ed7b1|188\n",
      "HASH5b0cf1bb|267\n",
      "HASH7911780b|171\n",
      "HASHc3bf3d9c|285\n",
      "HASH3935c89e|465\n",
      "HASH31ce566d|028\n",
      "HASHfeb7e81a|138\n",
      "HASHc9398971|178\n",
      "HASH6b4422a7|154\n",
      "HASHd7cb4c6d|294\n",
      "HASH311170b9|140\n",
      "HASH11ad4ed5|272\n",
      "HASH48f7cbc3|020\n",
      "HASHa3e45734|132\n",
      "HASH7f91147d|039\n",
      "HASH65b39280|026\n",
      "HASHe76e6d72|013\n"
     ]
    }
   ],
   "source": [
    "[print('{}|{:03d}'.format(i,sum(df_rsa['mri_info_deviceserialnumber'].values==i))) for i in u];"
   ]
  },
  {
   "cell_type": "code",
   "execution_count": 35,
   "metadata": {},
   "outputs": [
    {
     "name": "stderr",
     "output_type": "stream",
     "text": [
      "<ipython-input-35-d389b9a56901>:1: SettingWithCopyWarning: \n",
      "A value is trying to be set on a copy of a slice from a DataFrame.\n",
      "Try using .loc[row_indexer,col_indexer] = value instead\n",
      "\n",
      "See the caveats in the documentation: https://pandas.pydata.org/pandas-docs/stable/user_guide/indexing.html#returning-a-view-versus-a-copy\n",
      "  df_rsa['scannerID'] = [np.argwhere(df_rsa['mri_info_deviceserialnumber'].values[i]==u)[0][0]+1 for i in range(df_rsa.shape[0])]\n"
     ]
    }
   ],
   "source": [
    "df_rsa['scannerID'] = [np.argwhere(df_rsa['mri_info_deviceserialnumber'].values[i]==u)[0][0]+1 for i in range(df_rsa.shape[0])]"
   ]
  },
  {
   "cell_type": "code",
   "execution_count": 13,
   "metadata": {},
   "outputs": [],
   "source": [
    "#df_arsa.to_csv('df_rsa.csv')"
   ]
  },
  {
   "cell_type": "code",
   "execution_count": null,
   "metadata": {},
   "outputs": [],
   "source": []
  }
 ],
 "metadata": {
  "kernelspec": {
   "display_name": "Python 3",
   "language": "python",
   "name": "python3"
  },
  "language_info": {
   "codemirror_mode": {
    "name": "ipython",
    "version": 3
   },
   "file_extension": ".py",
   "mimetype": "text/x-python",
   "name": "python",
   "nbconvert_exporter": "python",
   "pygments_lexer": "ipython3",
   "version": "3.8.3"
  }
 },
 "nbformat": 4,
 "nbformat_minor": 5
}
